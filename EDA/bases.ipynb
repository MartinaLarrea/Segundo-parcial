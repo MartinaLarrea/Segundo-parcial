{
 "cells": [
  {
   "cell_type": "markdown",
   "metadata": {},
   "source": [
    "Importaciones básicas"
   ]
  },
  {
   "cell_type": "code",
   "execution_count": 41,
   "metadata": {},
   "outputs": [],
   "source": [
    "import pandas as pd\n",
    "import matplotlib.pyplot as plt"
   ]
  },
  {
   "cell_type": "markdown",
   "metadata": {},
   "source": [
    "apply(): Para aplicar funciones personalizadas a columnas o filas.\n",
    "pivot_table(): Para crear tablas pivote.\n",
    "Gráficos con Pandas: Utilizando métodos como df.plot() para visualizar datos directamente desde Pandas."
   ]
  },
  {
   "cell_type": "markdown",
   "metadata": {},
   "source": [
    "## Lecturas"
   ]
  },
  {
   "cell_type": "markdown",
   "metadata": {},
   "source": [
    "CSV"
   ]
  },
  {
   "cell_type": "code",
   "execution_count": 2,
   "metadata": {},
   "outputs": [],
   "source": [
    "df = pd.read_csv(\"trees.csv\")"
   ]
  },
  {
   "cell_type": "markdown",
   "metadata": {},
   "source": [
    "TXT"
   ]
  },
  {
   "cell_type": "code",
   "execution_count": null,
   "metadata": {},
   "outputs": [],
   "source": [
    "tweets = pd.read_csv(\"Clean_Top_1000_Youtube_df - youtubers_df.txt\", sep='\\t', header=0)"
   ]
  },
  {
   "cell_type": "markdown",
   "metadata": {},
   "source": [
    "Excel: Puedes especificar la hoja con 'sheet_name' si el archivo Excel tiene múltiples hojas"
   ]
  },
  {
   "cell_type": "code",
   "execution_count": null,
   "metadata": {},
   "outputs": [],
   "source": [
    "df_excel = pd.read_excel('archivo.xlsx', sheet_name='nombre_hoja')"
   ]
  },
  {
   "cell_type": "markdown",
   "metadata": {},
   "source": [
    "JSON"
   ]
  },
  {
   "cell_type": "code",
   "execution_count": null,
   "metadata": {},
   "outputs": [],
   "source": [
    "df_json = pd.read_json('archivo.json')"
   ]
  },
  {
   "cell_type": "markdown",
   "metadata": {},
   "source": [
    "TSV"
   ]
  },
  {
   "cell_type": "code",
   "execution_count": null,
   "metadata": {},
   "outputs": [],
   "source": [
    "df = pd.read_csv('mLabel_tweets.tsv', sep='\\t', encoding='latin1')"
   ]
  },
  {
   "cell_type": "markdown",
   "metadata": {},
   "source": [
    "El error UnicodeDecodeError indica que hay un problema al intentar decodificar el archivo con el codec UTF-8. Algunos de los codecs comunes son 'utf-8', 'latin1', 'utf-16', entre otros. "
   ]
  },
  {
   "cell_type": "markdown",
   "metadata": {},
   "source": [
    "## Descriptivos"
   ]
  },
  {
   "cell_type": "code",
   "execution_count": 3,
   "metadata": {},
   "outputs": [
    {
     "data": {
      "text/html": [
       "<div>\n",
       "<style scoped>\n",
       "    .dataframe tbody tr th:only-of-type {\n",
       "        vertical-align: middle;\n",
       "    }\n",
       "\n",
       "    .dataframe tbody tr th {\n",
       "        vertical-align: top;\n",
       "    }\n",
       "\n",
       "    .dataframe thead th {\n",
       "        text-align: right;\n",
       "    }\n",
       "</style>\n",
       "<table border=\"1\" class=\"dataframe\">\n",
       "  <thead>\n",
       "    <tr style=\"text-align: right;\">\n",
       "      <th></th>\n",
       "      <th>tree_id</th>\n",
       "      <th>legal_status</th>\n",
       "      <th>species</th>\n",
       "      <th>address</th>\n",
       "      <th>site_order</th>\n",
       "      <th>site_info</th>\n",
       "      <th>caretaker</th>\n",
       "      <th>date</th>\n",
       "      <th>dbh</th>\n",
       "      <th>plot_size</th>\n",
       "      <th>latitude</th>\n",
       "      <th>longitude</th>\n",
       "    </tr>\n",
       "  </thead>\n",
       "  <tbody>\n",
       "    <tr>\n",
       "      <th>0</th>\n",
       "      <td>99001</td>\n",
       "      <td>DPW Maintained</td>\n",
       "      <td>Lophostemon confertus :: Brisbane Box</td>\n",
       "      <td>2190X North Point St</td>\n",
       "      <td>7.0</td>\n",
       "      <td>Sidewalk: Curb side : Cutout</td>\n",
       "      <td>DPW for City Agency</td>\n",
       "      <td>2011-04-18</td>\n",
       "      <td>NaN</td>\n",
       "      <td>3x3</td>\n",
       "      <td>37.802851</td>\n",
       "      <td>-122.443247</td>\n",
       "    </tr>\n",
       "    <tr>\n",
       "      <th>1</th>\n",
       "      <td>253633</td>\n",
       "      <td>DPW Maintained</td>\n",
       "      <td>Tristaniopsis laurina :: Swamp Myrtle</td>\n",
       "      <td>1909 Judah St</td>\n",
       "      <td>1.0</td>\n",
       "      <td>Sidewalk: Curb side : Cutout</td>\n",
       "      <td>Private</td>\n",
       "      <td>2019-05-22</td>\n",
       "      <td>NaN</td>\n",
       "      <td>3x3</td>\n",
       "      <td>37.761311</td>\n",
       "      <td>-122.482618</td>\n",
       "    </tr>\n",
       "    <tr>\n",
       "      <th>2</th>\n",
       "      <td>96059</td>\n",
       "      <td>Permitted Site</td>\n",
       "      <td>Afrocarpus gracilior :: Fern Pine</td>\n",
       "      <td>101 Montcalm St</td>\n",
       "      <td>1.0</td>\n",
       "      <td>Sidewalk: Curb side : Cutout</td>\n",
       "      <td>Private</td>\n",
       "      <td>2011-08-03</td>\n",
       "      <td>NaN</td>\n",
       "      <td>3x3</td>\n",
       "      <td>37.746560</td>\n",
       "      <td>-122.406484</td>\n",
       "    </tr>\n",
       "    <tr>\n",
       "      <th>3</th>\n",
       "      <td>37613</td>\n",
       "      <td>DPW Maintained</td>\n",
       "      <td>Tristaniopsis laurina :: Swamp Myrtle</td>\n",
       "      <td>423 17th Ave</td>\n",
       "      <td>1.0</td>\n",
       "      <td>Sidewalk: Curb side : Cutout</td>\n",
       "      <td>Private</td>\n",
       "      <td>1998-06-26</td>\n",
       "      <td>7.0</td>\n",
       "      <td>NaN</td>\n",
       "      <td>37.779950</td>\n",
       "      <td>-122.476207</td>\n",
       "    </tr>\n",
       "    <tr>\n",
       "      <th>4</th>\n",
       "      <td>64585</td>\n",
       "      <td>Permitted Site</td>\n",
       "      <td>Ginkgo biloba :: Maidenhair Tree</td>\n",
       "      <td>3370 22nd St</td>\n",
       "      <td>1.0</td>\n",
       "      <td>Sidewalk: Curb side : Cutout</td>\n",
       "      <td>Private</td>\n",
       "      <td>1991-10-24</td>\n",
       "      <td>NaN</td>\n",
       "      <td>NaN</td>\n",
       "      <td>37.755276</td>\n",
       "      <td>-122.422575</td>\n",
       "    </tr>\n",
       "  </tbody>\n",
       "</table>\n",
       "</div>"
      ],
      "text/plain": [
       "   tree_id    legal_status                                species   \n",
       "0    99001  DPW Maintained  Lophostemon confertus :: Brisbane Box  \\\n",
       "1   253633  DPW Maintained  Tristaniopsis laurina :: Swamp Myrtle   \n",
       "2    96059  Permitted Site      Afrocarpus gracilior :: Fern Pine   \n",
       "3    37613  DPW Maintained  Tristaniopsis laurina :: Swamp Myrtle   \n",
       "4    64585  Permitted Site       Ginkgo biloba :: Maidenhair Tree   \n",
       "\n",
       "                address  site_order                     site_info   \n",
       "0  2190X North Point St         7.0  Sidewalk: Curb side : Cutout  \\\n",
       "1         1909 Judah St         1.0  Sidewalk: Curb side : Cutout   \n",
       "2       101 Montcalm St         1.0  Sidewalk: Curb side : Cutout   \n",
       "3          423 17th Ave         1.0  Sidewalk: Curb side : Cutout   \n",
       "4          3370 22nd St         1.0  Sidewalk: Curb side : Cutout   \n",
       "\n",
       "             caretaker        date  dbh plot_size   latitude   longitude  \n",
       "0  DPW for City Agency  2011-04-18  NaN       3x3  37.802851 -122.443247  \n",
       "1              Private  2019-05-22  NaN       3x3  37.761311 -122.482618  \n",
       "2              Private  2011-08-03  NaN       3x3  37.746560 -122.406484  \n",
       "3              Private  1998-06-26  7.0       NaN  37.779950 -122.476207  \n",
       "4              Private  1991-10-24  NaN       NaN  37.755276 -122.422575  "
      ]
     },
     "execution_count": 3,
     "metadata": {},
     "output_type": "execute_result"
    }
   ],
   "source": [
    "df.head()"
   ]
  },
  {
   "cell_type": "code",
   "execution_count": 13,
   "metadata": {},
   "outputs": [
    {
     "data": {
      "text/plain": [
       "(10000, 12)"
      ]
     },
     "execution_count": 13,
     "metadata": {},
     "output_type": "execute_result"
    }
   ],
   "source": [
    "df.shape"
   ]
  },
  {
   "cell_type": "markdown",
   "metadata": {},
   "source": [
    "El dataframe es un csv con información de los árboles de la ciudad de San Francisco.  En el dataset hay 10000 filas y 12 columnas"
   ]
  },
  {
   "cell_type": "code",
   "execution_count": 10,
   "metadata": {},
   "outputs": [
    {
     "name": "stdout",
     "output_type": "stream",
     "text": [
      "<class 'pandas.core.frame.DataFrame'>\n",
      "RangeIndex: 10000 entries, 0 to 9999\n",
      "Data columns (total 12 columns):\n",
      " #   Column        Non-Null Count  Dtype         \n",
      "---  ------        --------------  -----         \n",
      " 0   tree_id       10000 non-null  int64         \n",
      " 1   legal_status  9994 non-null   object        \n",
      " 2   species       10000 non-null  object        \n",
      " 3   address       9937 non-null   object        \n",
      " 4   site_order    9827 non-null   float64       \n",
      " 5   site_info     10000 non-null  object        \n",
      " 6   caretaker     10000 non-null  object        \n",
      " 7   date          10000 non-null  datetime64[ns]\n",
      " 8   dbh           6346 non-null   float64       \n",
      " 9   plot_size     4863 non-null   object        \n",
      " 10  latitude      9875 non-null   float64       \n",
      " 11  longitude     9875 non-null   float64       \n",
      "dtypes: datetime64[ns](1), float64(4), int64(1), object(6)\n",
      "memory usage: 937.6+ KB\n"
     ]
    }
   ],
   "source": [
    "df.info()"
   ]
  },
  {
   "cell_type": "markdown",
   "metadata": {},
   "source": [
    "Hay columnas de distintos tipos. \n",
    "\n",
    "Podemos ver que las únicas columnas con muchos nulos son dbh y plot_size.\n",
    "\n",
    "La columna date no está en el formato correcto."
   ]
  },
  {
   "cell_type": "markdown",
   "metadata": {},
   "source": [
    "Proporciona estadísticas descriptivas para columnas numéricas, como recuento, media, desviación estándar, mínimo, máximo y percentiles."
   ]
  },
  {
   "cell_type": "code",
   "execution_count": 12,
   "metadata": {},
   "outputs": [
    {
     "data": {
      "text/html": [
       "<div>\n",
       "<style scoped>\n",
       "    .dataframe tbody tr th:only-of-type {\n",
       "        vertical-align: middle;\n",
       "    }\n",
       "\n",
       "    .dataframe tbody tr th {\n",
       "        vertical-align: top;\n",
       "    }\n",
       "\n",
       "    .dataframe thead th {\n",
       "        text-align: right;\n",
       "    }\n",
       "</style>\n",
       "<table border=\"1\" class=\"dataframe\">\n",
       "  <thead>\n",
       "    <tr style=\"text-align: right;\">\n",
       "      <th></th>\n",
       "      <th>tree_id</th>\n",
       "      <th>site_order</th>\n",
       "      <th>date</th>\n",
       "      <th>dbh</th>\n",
       "      <th>latitude</th>\n",
       "      <th>longitude</th>\n",
       "    </tr>\n",
       "  </thead>\n",
       "  <tbody>\n",
       "    <tr>\n",
       "      <th>count</th>\n",
       "      <td>10000.000000</td>\n",
       "      <td>9827.000000</td>\n",
       "      <td>10000</td>\n",
       "      <td>6346.000000</td>\n",
       "      <td>9875.000000</td>\n",
       "      <td>9875.000000</td>\n",
       "    </tr>\n",
       "    <tr>\n",
       "      <th>mean</th>\n",
       "      <td>65846.831900</td>\n",
       "      <td>2.669482</td>\n",
       "      <td>2002-08-20 20:43:52.320000128</td>\n",
       "      <td>6.307595</td>\n",
       "      <td>37.758804</td>\n",
       "      <td>-122.435381</td>\n",
       "    </tr>\n",
       "    <tr>\n",
       "      <th>min</th>\n",
       "      <td>2.000000</td>\n",
       "      <td>1.000000</td>\n",
       "      <td>1955-12-13 00:00:00</td>\n",
       "      <td>0.000000</td>\n",
       "      <td>37.509004</td>\n",
       "      <td>-122.511257</td>\n",
       "    </tr>\n",
       "    <tr>\n",
       "      <th>25%</th>\n",
       "      <td>35563.500000</td>\n",
       "      <td>1.000000</td>\n",
       "      <td>1996-11-18 06:00:00</td>\n",
       "      <td>3.000000</td>\n",
       "      <td>37.738818</td>\n",
       "      <td>-122.457126</td>\n",
       "    </tr>\n",
       "    <tr>\n",
       "      <th>50%</th>\n",
       "      <td>52127.500000</td>\n",
       "      <td>1.000000</td>\n",
       "      <td>2002-07-05 00:00:00</td>\n",
       "      <td>4.000000</td>\n",
       "      <td>37.760479</td>\n",
       "      <td>-122.430794</td>\n",
       "    </tr>\n",
       "    <tr>\n",
       "      <th>75%</th>\n",
       "      <td>86524.000000</td>\n",
       "      <td>3.000000</td>\n",
       "      <td>2009-03-11 06:00:00</td>\n",
       "      <td>8.000000</td>\n",
       "      <td>37.778076</td>\n",
       "      <td>-122.412354</td>\n",
       "    </tr>\n",
       "    <tr>\n",
       "      <th>max</th>\n",
       "      <td>261540.000000</td>\n",
       "      <td>111.000000</td>\n",
       "      <td>2020-01-25 00:00:00</td>\n",
       "      <td>80.000000</td>\n",
       "      <td>37.808912</td>\n",
       "      <td>-122.368651</td>\n",
       "    </tr>\n",
       "    <tr>\n",
       "      <th>std</th>\n",
       "      <td>50011.511981</td>\n",
       "      <td>4.400961</td>\n",
       "      <td>NaN</td>\n",
       "      <td>5.699869</td>\n",
       "      <td>0.024548</td>\n",
       "      <td>0.031108</td>\n",
       "    </tr>\n",
       "  </tbody>\n",
       "</table>\n",
       "</div>"
      ],
      "text/plain": [
       "             tree_id   site_order                           date          dbh   \n",
       "count   10000.000000  9827.000000                          10000  6346.000000  \\\n",
       "mean    65846.831900     2.669482  2002-08-20 20:43:52.320000128     6.307595   \n",
       "min         2.000000     1.000000            1955-12-13 00:00:00     0.000000   \n",
       "25%     35563.500000     1.000000            1996-11-18 06:00:00     3.000000   \n",
       "50%     52127.500000     1.000000            2002-07-05 00:00:00     4.000000   \n",
       "75%     86524.000000     3.000000            2009-03-11 06:00:00     8.000000   \n",
       "max    261540.000000   111.000000            2020-01-25 00:00:00    80.000000   \n",
       "std     50011.511981     4.400961                            NaN     5.699869   \n",
       "\n",
       "          latitude    longitude  \n",
       "count  9875.000000  9875.000000  \n",
       "mean     37.758804  -122.435381  \n",
       "min      37.509004  -122.511257  \n",
       "25%      37.738818  -122.457126  \n",
       "50%      37.760479  -122.430794  \n",
       "75%      37.778076  -122.412354  \n",
       "max      37.808912  -122.368651  \n",
       "std       0.024548     0.031108  "
      ]
     },
     "execution_count": 12,
     "metadata": {},
     "output_type": "execute_result"
    }
   ],
   "source": [
    "df.describe()"
   ]
  },
  {
   "cell_type": "markdown",
   "metadata": {},
   "source": [
    "Cantidad de valores únicos para cada columna"
   ]
  },
  {
   "cell_type": "code",
   "execution_count": 25,
   "metadata": {},
   "outputs": [
    {
     "data": {
      "text/plain": [
       "tree_id         10000\n",
       "legal_status        8\n",
       "species           294\n",
       "address          8464\n",
       "site_order         51\n",
       "site_info          20\n",
       "caretaker          18\n",
       "date             3480\n",
       "dbh                43\n",
       "plot_size         134\n",
       "latitude         9029\n",
       "longitude        9029\n",
       "dtype: int64"
      ]
     },
     "execution_count": 25,
     "metadata": {},
     "output_type": "execute_result"
    }
   ],
   "source": [
    "df.nunique()"
   ]
  },
  {
   "cell_type": "markdown",
   "metadata": {},
   "source": [
    "Para ver cuáles son"
   ]
  },
  {
   "cell_type": "code",
   "execution_count": 26,
   "metadata": {},
   "outputs": [
    {
     "data": {
      "text/plain": [
       "array(['DPW Maintained', 'Permitted Site', 'Section 143', 'Undocumented',\n",
       "       'Planning Code 138.1 required', 'Significant Tree',\n",
       "       'Property Tree', 'Private', nan], dtype=object)"
      ]
     },
     "execution_count": 26,
     "metadata": {},
     "output_type": "execute_result"
    }
   ],
   "source": [
    "df[\"legal_status\"].unique()"
   ]
  },
  {
   "cell_type": "markdown",
   "metadata": {},
   "source": [
    "Cuántos registros hay para cada valor único"
   ]
  },
  {
   "cell_type": "code",
   "execution_count": 27,
   "metadata": {},
   "outputs": [
    {
     "data": {
      "text/plain": [
       "legal_status\n",
       "DPW Maintained                  5274\n",
       "Permitted Site                  4422\n",
       "Planning Code 138.1 required     107\n",
       "Undocumented                     102\n",
       "Significant Tree                  37\n",
       "Section 143                       33\n",
       "Property Tree                     12\n",
       "Private                            7\n",
       "Name: count, dtype: int64"
      ]
     },
     "execution_count": 27,
     "metadata": {},
     "output_type": "execute_result"
    }
   ],
   "source": [
    "df[\"legal_status\"].value_counts()"
   ]
  },
  {
   "cell_type": "markdown",
   "metadata": {},
   "source": [
    "## Transformaciones de columnas"
   ]
  },
  {
   "cell_type": "markdown",
   "metadata": {},
   "source": [
    "Renombrar"
   ]
  },
  {
   "cell_type": "code",
   "execution_count": null,
   "metadata": {},
   "outputs": [],
   "source": [
    "df.rename(columns={'v1':'label','v2':'message'},inplace=True)"
   ]
  },
  {
   "cell_type": "markdown",
   "metadata": {},
   "source": [
    "map() :Es importante tener en cuenta que map() se utiliza para transformar valores de una columna. Se usa principalmente para aplicar una transformación a cada elemento individual de una Serie (columna) en un DataFrame."
   ]
  },
  {
   "cell_type": "markdown",
   "metadata": {},
   "source": [
    "Nueva columna: 0 si es ham 1 si es spam"
   ]
  },
  {
   "cell_type": "code",
   "execution_count": null,
   "metadata": {},
   "outputs": [],
   "source": [
    "df['label_num'] = df.label.map({'ham':0, 'spam':1})"
   ]
  },
  {
   "cell_type": "markdown",
   "metadata": {},
   "source": [
    "apply() en Pandas se utiliza para aplicar funciones a lo largo de filas o columnas de un DataFrame o una Serie. "
   ]
  },
  {
   "cell_type": "markdown",
   "metadata": {},
   "source": [
    "### fechas"
   ]
  },
  {
   "cell_type": "code",
   "execution_count": 9,
   "metadata": {},
   "outputs": [],
   "source": [
    "df['date'] = pd.to_datetime(df['date'])"
   ]
  },
  {
   "cell_type": "code",
   "execution_count": null,
   "metadata": {},
   "outputs": [],
   "source": [
    "# Si el formato es 'DD-MM-AAAA'\n",
    "df['fecha'] = pd.to_datetime(df['fecha_str'], format='%d-%m-%Y')"
   ]
  },
  {
   "cell_type": "markdown",
   "metadata": {},
   "source": [
    "Columna año, mes, día en función de columna date"
   ]
  },
  {
   "cell_type": "code",
   "execution_count": 32,
   "metadata": {},
   "outputs": [],
   "source": [
    "df['Year'] = df['date'].dt.year\n",
    "df['Month'] = df['date'].dt.month"
   ]
  },
  {
   "cell_type": "markdown",
   "metadata": {},
   "source": [
    "Convierte una columna a tipo de timedelta (diferencia entre dos fechas o tiempos)."
   ]
  },
  {
   "cell_type": "code",
   "execution_count": null,
   "metadata": {},
   "outputs": [],
   "source": [
    "df['columna'] = pd.to_timedelta(df['columna'])"
   ]
  },
  {
   "cell_type": "markdown",
   "metadata": {},
   "source": [
    "### numéricas"
   ]
  },
  {
   "cell_type": "markdown",
   "metadata": {},
   "source": [
    "Por ejemplo, para convertir una columna a tipo int, float, str, datetime, etc."
   ]
  },
  {
   "cell_type": "code",
   "execution_count": null,
   "metadata": {},
   "outputs": [],
   "source": [
    "df['columna'] = df['columna'].astype(int)"
   ]
  },
  {
   "cell_type": "markdown",
   "metadata": {},
   "source": [
    "Convierte una columna a tipo numérico (entero o flotante)"
   ]
  },
  {
   "cell_type": "code",
   "execution_count": null,
   "metadata": {},
   "outputs": [],
   "source": [
    "df['columna'] = pd.to_numeric(df['columna'], errors='coerce')"
   ]
  },
  {
   "cell_type": "markdown",
   "metadata": {},
   "source": [
    "errors='coerce' pone como NaN los que no puede transformar"
   ]
  },
  {
   "cell_type": "markdown",
   "metadata": {},
   "source": [
    "### funciones"
   ]
  },
  {
   "cell_type": "markdown",
   "metadata": {},
   "source": [
    "Aplicar transformaciones más complejas a una columna."
   ]
  },
  {
   "cell_type": "code",
   "execution_count": null,
   "metadata": {},
   "outputs": [],
   "source": [
    "def mi_funcion(valor):\n",
    "    # Realizar transformación y retornar el nuevo valor\n",
    "    return transformacion\n",
    "\n",
    "df['columna'] = df['columna'].apply(mi_funcion)"
   ]
  },
  {
   "cell_type": "markdown",
   "metadata": {},
   "source": [
    "## Filtrados"
   ]
  },
  {
   "cell_type": "code",
   "execution_count": null,
   "metadata": {},
   "outputs": [],
   "source": [
    "df_filtrado = df[df['Edad'] > 30]"
   ]
  },
  {
   "cell_type": "markdown",
   "metadata": {},
   "source": [
    "Puedes combinar condiciones usando operadores lógicos como & (AND), | (OR), ~ (NOT):"
   ]
  },
  {
   "cell_type": "code",
   "execution_count": null,
   "metadata": {},
   "outputs": [],
   "source": [
    "df_filtrado = df[(df['Edad'] > 30) & (df['Puntuacion'] >= 80)]"
   ]
  },
  {
   "cell_type": "code",
   "execution_count": null,
   "metadata": {},
   "outputs": [],
   "source": [
    "df[~df[\"Region\"].isin([\"WESTERN EUROPE\",'EASTERN EUROPE'])]"
   ]
  },
  {
   "cell_type": "code",
   "execution_count": null,
   "metadata": {},
   "outputs": [],
   "source": [
    "# Supongamos que df es tu DataFrame\n",
    "df_filtrado = df[df['Nombre'].str.contains('Juan')]"
   ]
  },
  {
   "cell_type": "code",
   "execution_count": null,
   "metadata": {},
   "outputs": [],
   "source": [
    "valores_filtrar = ['A', 'B', 'C']\n",
    "df_filtrado = df[df['Columna'].isin(valores_filtrar)]"
   ]
  },
  {
   "cell_type": "markdown",
   "metadata": {},
   "source": [
    "## Faltantes"
   ]
  },
  {
   "cell_type": "markdown",
   "metadata": {},
   "source": [
    "### Eliminación"
   ]
  },
  {
   "cell_type": "markdown",
   "metadata": {},
   "source": [
    "Eliminar los nulos de todo el df"
   ]
  },
  {
   "cell_type": "code",
   "execution_count": null,
   "metadata": {},
   "outputs": [],
   "source": [
    "df_sin_nan = df.dropna()"
   ]
  },
  {
   "cell_type": "markdown",
   "metadata": {},
   "source": [
    "Eliminar los nulos de una columna. subset=['Columna_A', 'Columna_B'] si quiero eliminar las filas que contengan nulos en alguna de esas columnas. Si una fila tiene un nulo en la columna A o en la B, la va a eliminar."
   ]
  },
  {
   "cell_type": "code",
   "execution_count": null,
   "metadata": {},
   "outputs": [],
   "source": [
    "df_sin_nulos_columna_A = df.dropna(subset=['Columna_A'])"
   ]
  },
  {
   "cell_type": "markdown",
   "metadata": {},
   "source": [
    "### Análisis "
   ]
  },
  {
   "cell_type": "markdown",
   "metadata": {},
   "source": [
    "Para contar los valores nulos / no nulos en las columnas. isna() notna() isnull() notnull()"
   ]
  },
  {
   "cell_type": "code",
   "execution_count": 21,
   "metadata": {},
   "outputs": [
    {
     "data": {
      "text/plain": [
       "tree_id            0\n",
       "legal_status       6\n",
       "species            0\n",
       "address           63\n",
       "site_order       173\n",
       "site_info          0\n",
       "caretaker          0\n",
       "date               0\n",
       "dbh             3654\n",
       "plot_size       5137\n",
       "latitude         125\n",
       "longitude        125\n",
       "dtype: int64"
      ]
     },
     "execution_count": 21,
     "metadata": {},
     "output_type": "execute_result"
    }
   ],
   "source": [
    "df.isnull().sum()"
   ]
  },
  {
   "cell_type": "markdown",
   "metadata": {},
   "source": [
    "Si quiero ver los registros que tienen valores nulos en alguna columna"
   ]
  },
  {
   "cell_type": "code",
   "execution_count": 24,
   "metadata": {},
   "outputs": [
    {
     "data": {
      "text/html": [
       "<div>\n",
       "<style scoped>\n",
       "    .dataframe tbody tr th:only-of-type {\n",
       "        vertical-align: middle;\n",
       "    }\n",
       "\n",
       "    .dataframe tbody tr th {\n",
       "        vertical-align: top;\n",
       "    }\n",
       "\n",
       "    .dataframe thead th {\n",
       "        text-align: right;\n",
       "    }\n",
       "</style>\n",
       "<table border=\"1\" class=\"dataframe\">\n",
       "  <thead>\n",
       "    <tr style=\"text-align: right;\">\n",
       "      <th></th>\n",
       "      <th>tree_id</th>\n",
       "      <th>legal_status</th>\n",
       "      <th>species</th>\n",
       "      <th>address</th>\n",
       "      <th>site_order</th>\n",
       "      <th>site_info</th>\n",
       "      <th>caretaker</th>\n",
       "      <th>date</th>\n",
       "      <th>dbh</th>\n",
       "      <th>plot_size</th>\n",
       "      <th>latitude</th>\n",
       "      <th>longitude</th>\n",
       "    </tr>\n",
       "  </thead>\n",
       "  <tbody>\n",
       "    <tr>\n",
       "      <th>244</th>\n",
       "      <td>84712</td>\n",
       "      <td>Permitted Site</td>\n",
       "      <td>Washingtonia robusta :: Mexican Fan Palm</td>\n",
       "      <td>NaN</td>\n",
       "      <td>6.0</td>\n",
       "      <td>Sidewalk: Curb side : Cutout</td>\n",
       "      <td>Private</td>\n",
       "      <td>2007-05-17</td>\n",
       "      <td>NaN</td>\n",
       "      <td>NaN</td>\n",
       "      <td>37.769025</td>\n",
       "      <td>-122.437947</td>\n",
       "    </tr>\n",
       "    <tr>\n",
       "      <th>461</th>\n",
       "      <td>35702</td>\n",
       "      <td>Permitted Site</td>\n",
       "      <td>Liriodendron tulipifera :: Tulip Tree</td>\n",
       "      <td>NaN</td>\n",
       "      <td>15.0</td>\n",
       "      <td>Sidewalk: Curb side : Cutout</td>\n",
       "      <td>Private</td>\n",
       "      <td>1998-04-10</td>\n",
       "      <td>NaN</td>\n",
       "      <td>NaN</td>\n",
       "      <td>NaN</td>\n",
       "      <td>NaN</td>\n",
       "    </tr>\n",
       "    <tr>\n",
       "      <th>526</th>\n",
       "      <td>45381</td>\n",
       "      <td>Permitted Site</td>\n",
       "      <td>Lophostemon confertus :: Brisbane Box</td>\n",
       "      <td>NaN</td>\n",
       "      <td>4.0</td>\n",
       "      <td>Sidewalk: Curb side : Cutout</td>\n",
       "      <td>Private</td>\n",
       "      <td>2001-07-06</td>\n",
       "      <td>NaN</td>\n",
       "      <td>NaN</td>\n",
       "      <td>37.792882</td>\n",
       "      <td>-122.480907</td>\n",
       "    </tr>\n",
       "    <tr>\n",
       "      <th>626</th>\n",
       "      <td>36839</td>\n",
       "      <td>Permitted Site</td>\n",
       "      <td>Tristaniopsis laurina :: Swamp Myrtle</td>\n",
       "      <td>NaN</td>\n",
       "      <td>5.0</td>\n",
       "      <td>Sidewalk: Curb side : Cutout</td>\n",
       "      <td>Private</td>\n",
       "      <td>1998-05-26</td>\n",
       "      <td>NaN</td>\n",
       "      <td>NaN</td>\n",
       "      <td>NaN</td>\n",
       "      <td>NaN</td>\n",
       "    </tr>\n",
       "    <tr>\n",
       "      <th>702</th>\n",
       "      <td>35285</td>\n",
       "      <td>Permitted Site</td>\n",
       "      <td>Olea europaea :: Olive Tree</td>\n",
       "      <td>NaN</td>\n",
       "      <td>4.0</td>\n",
       "      <td>Sidewalk: Curb side : Cutout</td>\n",
       "      <td>Private</td>\n",
       "      <td>1998-02-17</td>\n",
       "      <td>NaN</td>\n",
       "      <td>NaN</td>\n",
       "      <td>NaN</td>\n",
       "      <td>NaN</td>\n",
       "    </tr>\n",
       "  </tbody>\n",
       "</table>\n",
       "</div>"
      ],
      "text/plain": [
       "     tree_id    legal_status                                   species   \n",
       "244    84712  Permitted Site  Washingtonia robusta :: Mexican Fan Palm  \\\n",
       "461    35702  Permitted Site     Liriodendron tulipifera :: Tulip Tree   \n",
       "526    45381  Permitted Site     Lophostemon confertus :: Brisbane Box   \n",
       "626    36839  Permitted Site     Tristaniopsis laurina :: Swamp Myrtle   \n",
       "702    35285  Permitted Site               Olea europaea :: Olive Tree   \n",
       "\n",
       "    address  site_order                     site_info caretaker       date   \n",
       "244     NaN         6.0  Sidewalk: Curb side : Cutout   Private 2007-05-17  \\\n",
       "461     NaN        15.0  Sidewalk: Curb side : Cutout   Private 1998-04-10   \n",
       "526     NaN         4.0  Sidewalk: Curb side : Cutout   Private 2001-07-06   \n",
       "626     NaN         5.0  Sidewalk: Curb side : Cutout   Private 1998-05-26   \n",
       "702     NaN         4.0  Sidewalk: Curb side : Cutout   Private 1998-02-17   \n",
       "\n",
       "     dbh plot_size   latitude   longitude  \n",
       "244  NaN       NaN  37.769025 -122.437947  \n",
       "461  NaN       NaN        NaN         NaN  \n",
       "526  NaN       NaN  37.792882 -122.480907  \n",
       "626  NaN       NaN        NaN         NaN  \n",
       "702  NaN       NaN        NaN         NaN  "
      ]
     },
     "execution_count": 24,
     "metadata": {},
     "output_type": "execute_result"
    }
   ],
   "source": [
    "df[df['address'].isnull()].head()"
   ]
  },
  {
   "cell_type": "markdown",
   "metadata": {},
   "source": [
    "### Manejo"
   ]
  },
  {
   "cell_type": "markdown",
   "metadata": {},
   "source": [
    "Rellenar los nulos"
   ]
  },
  {
   "cell_type": "code",
   "execution_count": null,
   "metadata": {},
   "outputs": [],
   "source": [
    "df_con_ceros = df.fillna(0)"
   ]
  },
  {
   "cell_type": "markdown",
   "metadata": {},
   "source": [
    "## Groupby"
   ]
  },
  {
   "cell_type": "markdown",
   "metadata": {},
   "source": [
    "Funciones de agregación (por ejemplo, sum(), mean(), max(), min(), etc.)"
   ]
  },
  {
   "cell_type": "markdown",
   "metadata": {},
   "source": [
    "Agrupar por una columna"
   ]
  },
  {
   "cell_type": "code",
   "execution_count": null,
   "metadata": {},
   "outputs": [],
   "source": [
    "df.groupby('site_order').tree_id.count()"
   ]
  },
  {
   "cell_type": "markdown",
   "metadata": {},
   "source": [
    "Si no le pongo tree id, lo va a hacer para todas las columnas"
   ]
  },
  {
   "cell_type": "markdown",
   "metadata": {},
   "source": [
    "Agrupar por más de una columna"
   ]
  },
  {
   "cell_type": "code",
   "execution_count": null,
   "metadata": {},
   "outputs": [],
   "source": [
    "df.groupby(['Columna1', 'Columna2']).sum()"
   ]
  },
  {
   "cell_type": "markdown",
   "metadata": {},
   "source": [
    "Si quiero realizar más de una agregación"
   ]
  },
  {
   "cell_type": "code",
   "execution_count": null,
   "metadata": {},
   "outputs": [],
   "source": [
    "resultado = df.groupby('Columna_A')['Columna_B'].agg(['sum', 'mean'])"
   ]
  },
  {
   "cell_type": "code",
   "execution_count": 33,
   "metadata": {},
   "outputs": [],
   "source": [
    "resultado = df.groupby('Year')['tree_id'].count()"
   ]
  },
  {
   "cell_type": "markdown",
   "metadata": {},
   "source": [
    "Si les quiero poner títulos"
   ]
  },
  {
   "cell_type": "code",
   "execution_count": null,
   "metadata": {},
   "outputs": [],
   "source": [
    "resultados = df.groupby('Columna_A')['Columna_B'].agg(\n",
    "    Suma='sum',\n",
    "    Promedio='mean',\n",
    "    Maximo='max',\n",
    "    Minimo='min'\n",
    ")"
   ]
  },
  {
   "cell_type": "markdown",
   "metadata": {},
   "source": [
    "Si quiero agrupar y hacerle distintas funciones a distintas columnas"
   ]
  },
  {
   "cell_type": "code",
   "execution_count": null,
   "metadata": {},
   "outputs": [],
   "source": [
    "resultados = df.groupby('Columna_A').agg({\n",
    "    'Columna_B': ['sum', 'mean'],\n",
    "    'Columna_C': 'max'\n",
    "})\n",
    "\n",
    "# Renombrar las columnas resultantes\n",
    "resultados.columns = ['Suma_Columna_B', 'Promedio_Columna_B', 'Maximo_Columna_C']"
   ]
  },
  {
   "cell_type": "markdown",
   "metadata": {},
   "source": [
    "Funciones creadas por nosotros"
   ]
  },
  {
   "cell_type": "code",
   "execution_count": null,
   "metadata": {},
   "outputs": [],
   "source": [
    "def diferencia_max_min(x):\n",
    "    return x.max() - x.min()\n",
    "\n",
    "# Aplicar la función personalizada a 'Columna_B' por grupo en 'Columna_A'\n",
    "resultado_personalizado = df.groupby('Columna_A')['Columna_B'].agg(diferencia_max_min)"
   ]
  },
  {
   "cell_type": "markdown",
   "metadata": {},
   "source": [
    "## Otras"
   ]
  },
  {
   "cell_type": "markdown",
   "metadata": {},
   "source": [
    "### Renombrar columnas"
   ]
  },
  {
   "cell_type": "markdown",
   "metadata": {},
   "source": [
    "Todas a la vez"
   ]
  },
  {
   "cell_type": "code",
   "execution_count": null,
   "metadata": {},
   "outputs": [],
   "source": [
    "df.columns = ['Nuevo_Nombre_A', 'Nuevo_Nombre_B']"
   ]
  },
  {
   "cell_type": "markdown",
   "metadata": {},
   "source": [
    "Una en específico"
   ]
  },
  {
   "cell_type": "code",
   "execution_count": null,
   "metadata": {},
   "outputs": [],
   "source": [
    "df.rename(columns={'A': 'Nuevo_Nombre_A'}, inplace=True)"
   ]
  },
  {
   "cell_type": "markdown",
   "metadata": {},
   "source": [
    "Varias"
   ]
  },
  {
   "cell_type": "code",
   "execution_count": null,
   "metadata": {},
   "outputs": [],
   "source": [
    "df.rename(columns={'A': 'Nuevo_Nombre_A', 'B': 'Nuevo_Nombre_B'}, inplace=True)"
   ]
  },
  {
   "cell_type": "markdown",
   "metadata": {},
   "source": [
    "### Eliminacion de columnas"
   ]
  },
  {
   "cell_type": "markdown",
   "metadata": {},
   "source": [
    "Elimino una columna"
   ]
  },
  {
   "cell_type": "code",
   "execution_count": null,
   "metadata": {},
   "outputs": [],
   "source": [
    "df.drop('nombre_columna', axis=1, inplace=True)"
   ]
  },
  {
   "cell_type": "markdown",
   "metadata": {},
   "source": [
    "Más de una columna"
   ]
  },
  {
   "cell_type": "code",
   "execution_count": null,
   "metadata": {},
   "outputs": [],
   "source": [
    "columnas_a_eliminar = ['columna1', 'columna2', 'columna3']\n",
    "df.drop(columns=columnas_a_eliminar, inplace=True)"
   ]
  },
  {
   "cell_type": "markdown",
   "metadata": {},
   "source": [
    "### Duplicados"
   ]
  },
  {
   "cell_type": "markdown",
   "metadata": {},
   "source": [
    "Eliminar duplicados"
   ]
  },
  {
   "cell_type": "code",
   "execution_count": null,
   "metadata": {},
   "outputs": [],
   "source": [
    "df_sin_duplicados = df.drop_duplicates()"
   ]
  },
  {
   "cell_type": "markdown",
   "metadata": {},
   "source": [
    "### Indices"
   ]
  },
  {
   "cell_type": "markdown",
   "metadata": {},
   "source": [
    "Después de usar set_index(), la columna 'Country' ya no será una columna normal, sino el índice del DataFrame. Por ejemplo, después de usar set_index(\"Country\", inplace=True), podrías acceder a filas específicas utilizando el nombre de un país: datos_pais = df.loc[\"Estados Unidos\"]"
   ]
  },
  {
   "cell_type": "code",
   "execution_count": null,
   "metadata": {},
   "outputs": [],
   "source": [
    "df.set_index(\"Country\", inplace=True)"
   ]
  },
  {
   "cell_type": "markdown",
   "metadata": {},
   "source": [
    "reset_index() :El resultado es una Serie que tiene 'Columna_A' como índice y la suma de 'Columna_B' como valores.  Al llamar a reset_index() con inplace=True, se crea un nuevo DataFrame donde 'Columna_A' se convierte en una columna regular en lugar de ser el índice"
   ]
  },
  {
   "cell_type": "code",
   "execution_count": null,
   "metadata": {},
   "outputs": [],
   "source": [
    "resultados = df.groupby('Columna_A')['Columna_B'].sum()\n",
    "\n",
    "# Resetear el índice después de groupby() para tener un DataFrame con índice numérico\n",
    "resultados.reset_index(inplace=True)"
   ]
  },
  {
   "cell_type": "markdown",
   "metadata": {},
   "source": [
    "### Sort"
   ]
  },
  {
   "cell_type": "markdown",
   "metadata": {},
   "source": [
    "Ordenar de acuerdo al índice de mayor a menor"
   ]
  },
  {
   "cell_type": "code",
   "execution_count": null,
   "metadata": {},
   "outputs": [],
   "source": [
    "df.sort_index(ascending=False)"
   ]
  },
  {
   "cell_type": "markdown",
   "metadata": {},
   "source": [
    "Ordenar de acuerdo a una columna"
   ]
  },
  {
   "cell_type": "code",
   "execution_count": null,
   "metadata": {},
   "outputs": [],
   "source": [
    "df.sort_values(by = 'GDP ($ per capita)', ascending=False)"
   ]
  },
  {
   "cell_type": "markdown",
   "metadata": {},
   "source": [
    "## Plots"
   ]
  },
  {
   "cell_type": "markdown",
   "metadata": {},
   "source": [
    "### Matplot"
   ]
  },
  {
   "cell_type": "code",
   "execution_count": null,
   "metadata": {},
   "outputs": [],
   "source": [
    "plt.figure(figsize=(10,3)) # va primero\n",
    "\n",
    "\n",
    "\n",
    "plt.legend()\n",
    "plt.title(\"Precios por años\")\n",
    "plt.xlabel(\"Años\")\n",
    "plt.ylabel(\"Precios en dolares\")\n",
    "\n",
    "plt.xlim(right=3)  # adjust the right leaving left unchanged\n",
    "plt.xlim(left=1)  # adjust the left leaving right unchanged\n",
    "plt.ylim(top=3)  # adjust the top leaving bottom unchanged\n",
    "plt.ylim(bottom=1)  # adjust the bottom leaving top unchanged\n",
    "plt.ylim((0,3000))\n",
    "plt.show()"
   ]
  },
  {
   "cell_type": "markdown",
   "metadata": {},
   "source": [
    "#### Líneas"
   ]
  },
  {
   "cell_type": "markdown",
   "metadata": {},
   "source": [
    "Estilos de líneas "
   ]
  },
  {
   "cell_type": "markdown",
   "metadata": {},
   "source": [
    "Si quiero que aparezca la leyenda de la línea tengo que poner plt.legend()"
   ]
  },
  {
   "cell_type": "code",
   "execution_count": null,
   "metadata": {},
   "outputs": [],
   "source": [
    "plt.plot(x, y, marker='o', linestyle='--', color='red', label='Línea 1')\n",
    "plt.legend() "
   ]
  },
  {
   "cell_type": "markdown",
   "metadata": {},
   "source": [
    "Algunos valores comunes para marker: 'o' (círculo), 's' (cuadrado), '+', '*', 'x', '.'.\n",
    "\n",
    "Algunos valores comunes para linestyle: '-' (sólida), '--' (discontinua), ':' (punteada), '-.' (punteado y discontinuo).\n",
    "\n",
    "Algunos valores comunes para color: 'red', 'blue', 'green', 'black', etc. También se pueden usar códigos hexadecimales como '#FF5733'"
   ]
  },
  {
   "cell_type": "markdown",
   "metadata": {},
   "source": [
    "Una sola línea"
   ]
  },
  {
   "cell_type": "markdown",
   "metadata": {},
   "source": [
    "Primero tuve que agrupar por año, hacer un count de tree_id y resetear el indice"
   ]
  },
  {
   "cell_type": "code",
   "execution_count": 59,
   "metadata": {},
   "outputs": [
    {
     "data": {
      "text/plain": [
       "[<matplotlib.lines.Line2D at 0x210923ad850>]"
      ]
     },
     "execution_count": 59,
     "metadata": {},
     "output_type": "execute_result"
    },
    {
     "data": {
      "image/png": "[encoded data removed]",
      "text/plain": [
       "<Figure size 640x480 with 1 Axes>"
      ]
     },
     "metadata": {},
     "output_type": "display_data"
    }
   ],
   "source": [
    "plt.plot(resultado[\"Year\"], resultado[\"Cantidad\"], marker='o', linestyle='--', color='red', label='Línea 1')"
   ]
  },
  {
   "cell_type": "markdown",
   "metadata": {},
   "source": [
    "Múltiples líneas"
   ]
  },
  {
   "cell_type": "markdown",
   "metadata": {},
   "source": [
    "Agrego una columna sin sentido solo para poder ver cómo se hacen gráficos con múltiples líneas"
   ]
  },
  {
   "cell_type": "code",
   "execution_count": 49,
   "metadata": {},
   "outputs": [],
   "source": [
    "resultado[\"mas3\"] = resultado[\"Cantidad\"] + 100"
   ]
  },
  {
   "cell_type": "code",
   "execution_count": 51,
   "metadata": {},
   "outputs": [
    {
     "data": {
      "text/plain": [
       "[<matplotlib.lines.Line2D at 0x21091eee3d0>]"
      ]
     },
     "execution_count": 51,
     "metadata": {},
     "output_type": "execute_result"
    },
    {
     "data": {
      "image/png": "[encoded data removed]",
      "text/plain": [
       "<Figure size 640x480 with 1 Axes>"
      ]
     },
     "metadata": {},
     "output_type": "display_data"
    }
   ],
   "source": [
    "plt.plot(resultado[\"Year\"], resultado[\"Cantidad\"])\n",
    "plt.plot(resultado[\"Year\"], resultado[\"mas3\"])"
   ]
  },
  {
   "cell_type": "markdown",
   "metadata": {},
   "source": [
    "Se les puede poner label pero a mi no me aparece"
   ]
  },
  {
   "cell_type": "markdown",
   "metadata": {},
   "source": [
    "#### Barras"
   ]
  },
  {
   "cell_type": "markdown",
   "metadata": {},
   "source": [
    "#### Subplot"
   ]
  },
  {
   "cell_type": "markdown",
   "metadata": {},
   "source": [
    "Sintaxis: plt.subplot(rows, columns, index) Crea un solo subplot en una figura.\n",
    "- Los argumentos rows y columns definen la disposición de la cuadrícula de subplots.\n",
    "- El argumento index indica la posición del subplot actual en la cuadrícula.\n",
    "- Los índices comienzan en 1 y van de izquierda a derecha y de arriba hacia abajo.\n",
    "- Ejemplo: plt.subplot(2, 2, 1) crea un subplot en una cuadrícula de 2 filas y 2 columnas, en la posición superior izquierda."
   ]
  },
  {
   "cell_type": "markdown",
   "metadata": {},
   "source": [
    "plt.subplot(1,2,1): Crea el primer subplot. El primer número (1) significa una fila de subgráficos, el segundo número (2) indica dos columnas y el tercer número (1) indica que este es el primer subplot."
   ]
  },
  {
   "cell_type": "code",
   "execution_count": 77,
   "metadata": {},
   "outputs": [
    {
     "data": {
      "image/png": "[encoded data removed]",
      "text/plain": [
       "<Figure size 1000x500 with 3 Axes>"
      ]
     },
     "metadata": {},
     "output_type": "display_data"
    }
   ],
   "source": [
    "# Start a figure\n",
    "plt.figure(figsize=(10,5))\n",
    "# First subplot\n",
    "plt.subplot(2,2,1)\n",
    "plt.plot(resultado[\"Year\"], resultado[\"Cantidad\"], label=\"Precios Totales\")\n",
    "plt.title('Total vs. Petroleo')\n",
    "plt.legend()\n",
    "\n",
    "plt.subplot(2,2,3)\n",
    "plt.plot(resultado[\"Year\"], resultado[\"Cantidad\"], label=\"Precios Totales\", color = \"red\")\n",
    "plt.legend()\n",
    "\n",
    "# Second subplot\n",
    "plt.subplot(1,2,2) \n",
    "plt.plot(resultado[\"Year\"], resultado[\"mas3\"], c='black', label=\"total\")\n",
    "plt.title(\"Todas las materias primas\")\n",
    "plt.legend()\n",
    "# Global figure methods\n",
    "plt.suptitle('1975 - 2015')\n",
    "plt.show()"
   ]
  },
  {
   "cell_type": "markdown",
   "metadata": {},
   "source": [
    "#### Subplots"
   ]
  },
  {
   "cell_type": "markdown",
   "metadata": {},
   "source": [
    "Es otra manera de hacer subplots"
   ]
  },
  {
   "cell_type": "markdown",
   "metadata": {},
   "source": [
    "Sintaxis: fig, axs = plt.subplots(rows, columns, figsize=(width, height))\n",
    "- Crea una figura y una matriz de subplots.\n",
    "- Devuelve dos objetos: fig, que representa la figura completa, y axs, que es una matriz de ejes (subgráficos).\n",
    "- Permite un manejo más eficiente de múltiples subplots al acceder a ellos a través de la matriz axs.\n",
    "- Ejemplo: fig, axs = plt.subplots(2, 2) crea una figura con una matriz de 2x2 subplots.\n",
    "\n",
    "- los subplots se acceden a través de la matriz axs usando índices de matriz estándar (por ejemplo, axs[0, 0], axs[0, 1])."
   ]
  },
  {
   "cell_type": "markdown",
   "metadata": {},
   "source": [
    "Utiliza la función plt.subplots() de Matplotlib para inicializar una figura y una matriz de subgráficos (axs) en una sola llamada."
   ]
  },
  {
   "cell_type": "markdown",
   "metadata": {},
   "source": [
    "plt.subplots(1, 2, figsize=(10,3)): Crea una figura y una matriz de subgráficos de 1 fila y 2 columnas, devolviendo dos objetos: fig, que representa la figura completa, y axs, que es una matriz de ejes (subgráficos) donde axs[0] representa el primer subplot y axs[1] el segundo."
   ]
  },
  {
   "cell_type": "code",
   "execution_count": null,
   "metadata": {},
   "outputs": [],
   "source": [
    "# Destructuring initialization\n",
    "fig, axs = plt.subplots(1, 2, figsize=(10,3)) # axs is a (1,2) nd-array\n",
    "\n",
    "# First subplot\n",
    "axs[0].plot(eje_x_years, eje_y_prices, label=\"Precios Totales\")\n",
    "axs[0].plot(eje_x_years, petroleo_y, label=\"Precios Petroleo\")\n",
    "axs[0].set_title('Total vs. Petroleo')\n",
    "axs[0].legend()\n",
    "# Second subplot\n",
    "axs[1].plot(eje_x_years, eje_y_prices, c='black')\n",
    "axs[1].set_title(\"Todas las materias primas\")\n",
    "# Global figure methods\n",
    "plt.suptitle('1975 - 2015')\n",
    "plt.show()"
   ]
  },
  {
   "cell_type": "markdown",
   "metadata": {},
   "source": [
    "### Seaborn"
   ]
  }
 ],
 "metadata": {
  "kernelspec": {
   "display_name": "Python 3",
   "language": "python",
   "name": "python3"
  },
  "language_info": {
   "codemirror_mode": {
    "name": "ipython",
    "version": 3
   },
   "file_extension": ".py",
   "mimetype": "text/x-python",
   "name": "python",
   "nbconvert_exporter": "python",
   "pygments_lexer": "ipython3",
   "version": "3.11.6"
  }
 },
 "nbformat": 4,
 "nbformat_minor": 2
}
