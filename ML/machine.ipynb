{
 "cells": [
  {
   "cell_type": "code",
   "execution_count": 3,
   "metadata": {},
   "outputs": [],
   "source": [
    "import pandas as pd\n",
    "import matplotlib.pyplot as plt\n",
    "import seaborn as sns\n",
    "import numpy as np"
   ]
  },
  {
   "cell_type": "code",
   "execution_count": 31,
   "metadata": {},
   "outputs": [],
   "source": [
    "import statsmodels.formula.api as smf\n",
    "from scipy.stats import ttest_ind\n",
    "import sklearn\n",
    "from sklearn.metrics import mean_squared_error"
   ]
  },
  {
   "cell_type": "code",
   "execution_count": 6,
   "metadata": {},
   "outputs": [],
   "source": [
    "cultivos = pd.read_csv(\"../EDA/tipo_cultivo.csv\")"
   ]
  },
  {
   "cell_type": "code",
   "execution_count": 20,
   "metadata": {},
   "outputs": [],
   "source": [
    "data = pd.read_csv(\"emprendimientos.csv\")"
   ]
  },
  {
   "cell_type": "markdown",
   "metadata": {},
   "source": [
    "## Correlaciones"
   ]
  },
  {
   "cell_type": "markdown",
   "metadata": {},
   "source": [
    "Hay correlación entre el contenido de potasio y de fósforo?"
   ]
  },
  {
   "cell_type": "code",
   "execution_count": 14,
   "metadata": {},
   "outputs": [
    {
     "name": "stdout",
     "output_type": "stream",
     "text": [
      "Correlación entre potasio y fósforo: 0.7362322172446614\n"
     ]
    }
   ],
   "source": [
    "correlation_pot_fos = cultivos['Contenido_de_Potasio'].corr(cultivos['Contenido_de_Fosforo'])\n",
    "print(f\"Correlación entre potasio y fósforo: {correlation_pot_fos}\")"
   ]
  },
  {
   "cell_type": "markdown",
   "metadata": {},
   "source": [
    "Tomo las columnas numéricas para hacer la correlación"
   ]
  },
  {
   "cell_type": "code",
   "execution_count": 23,
   "metadata": {},
   "outputs": [
    {
     "data": {
      "text/html": [
       "<div>\n",
       "<style scoped>\n",
       "    .dataframe tbody tr th:only-of-type {\n",
       "        vertical-align: middle;\n",
       "    }\n",
       "\n",
       "    .dataframe tbody tr th {\n",
       "        vertical-align: top;\n",
       "    }\n",
       "\n",
       "    .dataframe thead th {\n",
       "        text-align: right;\n",
       "    }\n",
       "</style>\n",
       "<table border=\"1\" class=\"dataframe\">\n",
       "  <thead>\n",
       "    <tr style=\"text-align: right;\">\n",
       "      <th></th>\n",
       "      <th>RnD_Expenditure</th>\n",
       "      <th>Admin_Costs</th>\n",
       "      <th>Marketing_Expenditure</th>\n",
       "      <th>Net_Profit</th>\n",
       "      <th>Profit</th>\n",
       "      <th>Operational_Cost</th>\n",
       "      <th>Employee_Count</th>\n",
       "    </tr>\n",
       "  </thead>\n",
       "  <tbody>\n",
       "    <tr>\n",
       "      <th>RnD_Expenditure</th>\n",
       "      <td>1.000000</td>\n",
       "      <td>0.144450</td>\n",
       "      <td>0.441441</td>\n",
       "      <td>0.536140</td>\n",
       "      <td>0.624638</td>\n",
       "      <td>0.464026</td>\n",
       "      <td>0.061373</td>\n",
       "    </tr>\n",
       "    <tr>\n",
       "      <th>Admin_Costs</th>\n",
       "      <td>0.144450</td>\n",
       "      <td>1.000000</td>\n",
       "      <td>0.002806</td>\n",
       "      <td>0.030645</td>\n",
       "      <td>0.076751</td>\n",
       "      <td>0.295399</td>\n",
       "      <td>0.155882</td>\n",
       "    </tr>\n",
       "    <tr>\n",
       "      <th>Marketing_Expenditure</th>\n",
       "      <td>0.441441</td>\n",
       "      <td>0.002806</td>\n",
       "      <td>1.000000</td>\n",
       "      <td>0.332763</td>\n",
       "      <td>0.370202</td>\n",
       "      <td>0.956199</td>\n",
       "      <td>-0.145717</td>\n",
       "    </tr>\n",
       "    <tr>\n",
       "      <th>Net_Profit</th>\n",
       "      <td>0.536140</td>\n",
       "      <td>0.030645</td>\n",
       "      <td>0.332763</td>\n",
       "      <td>1.000000</td>\n",
       "      <td>0.991393</td>\n",
       "      <td>0.326885</td>\n",
       "      <td>0.016218</td>\n",
       "    </tr>\n",
       "    <tr>\n",
       "      <th>Profit</th>\n",
       "      <td>0.624638</td>\n",
       "      <td>0.076751</td>\n",
       "      <td>0.370202</td>\n",
       "      <td>0.991393</td>\n",
       "      <td>1.000000</td>\n",
       "      <td>0.376149</td>\n",
       "      <td>0.025882</td>\n",
       "    </tr>\n",
       "    <tr>\n",
       "      <th>Operational_Cost</th>\n",
       "      <td>0.464026</td>\n",
       "      <td>0.295399</td>\n",
       "      <td>0.956199</td>\n",
       "      <td>0.326885</td>\n",
       "      <td>0.376149</td>\n",
       "      <td>1.000000</td>\n",
       "      <td>-0.093585</td>\n",
       "    </tr>\n",
       "    <tr>\n",
       "      <th>Employee_Count</th>\n",
       "      <td>0.061373</td>\n",
       "      <td>0.155882</td>\n",
       "      <td>-0.145717</td>\n",
       "      <td>0.016218</td>\n",
       "      <td>0.025882</td>\n",
       "      <td>-0.093585</td>\n",
       "      <td>1.000000</td>\n",
       "    </tr>\n",
       "  </tbody>\n",
       "</table>\n",
       "</div>"
      ],
      "text/plain": [
       "                       RnD_Expenditure  Admin_Costs  Marketing_Expenditure   \n",
       "RnD_Expenditure               1.000000     0.144450               0.441441  \\\n",
       "Admin_Costs                   0.144450     1.000000               0.002806   \n",
       "Marketing_Expenditure         0.441441     0.002806               1.000000   \n",
       "Net_Profit                    0.536140     0.030645               0.332763   \n",
       "Profit                        0.624638     0.076751               0.370202   \n",
       "Operational_Cost              0.464026     0.295399               0.956199   \n",
       "Employee_Count                0.061373     0.155882              -0.145717   \n",
       "\n",
       "                       Net_Profit    Profit  Operational_Cost  Employee_Count  \n",
       "RnD_Expenditure          0.536140  0.624638          0.464026        0.061373  \n",
       "Admin_Costs              0.030645  0.076751          0.295399        0.155882  \n",
       "Marketing_Expenditure    0.332763  0.370202          0.956199       -0.145717  \n",
       "Net_Profit               1.000000  0.991393          0.326885        0.016218  \n",
       "Profit                   0.991393  1.000000          0.376149        0.025882  \n",
       "Operational_Cost         0.326885  0.376149          1.000000       -0.093585  \n",
       "Employee_Count           0.016218  0.025882         -0.093585        1.000000  "
      ]
     },
     "execution_count": 23,
     "metadata": {},
     "output_type": "execute_result"
    }
   ],
   "source": [
    "data_new_numericas = data_new[[\n",
    "    'RnD_Expenditure',\n",
    "    'Admin_Costs',\n",
    "    'Marketing_Expenditure',\n",
    "    'Net_Profit', \n",
    "    'Profit',\n",
    "    'Operational_Cost',\n",
    "    'Employee_Count'\n",
    "]]\n",
    "data_new_numericas.corr()"
   ]
  },
  {
   "cell_type": "markdown",
   "metadata": {},
   "source": [
    "Heatmap de las correlaciones de las columnas numéricas"
   ]
  },
  {
   "cell_type": "code",
   "execution_count": null,
   "metadata": {},
   "outputs": [],
   "source": [
    "plt.figure(figsize = (7,7))\n",
    "numeric_cols = data.select_dtypes(include=[float, int])\n",
    "sns.heatmap(round(numeric_cols.corr(),2), cmap = \"coolwarm\", annot = True, annot_kws = {\"size\":12})"
   ]
  },
  {
   "cell_type": "markdown",
   "metadata": {},
   "source": [
    "## OneHotEncoder"
   ]
  },
  {
   "cell_type": "code",
   "execution_count": null,
   "metadata": {},
   "outputs": [],
   "source": [
    "from sklearn.preprocessing import LabelEncoder, OneHotEncoder"
   ]
  },
  {
   "cell_type": "markdown",
   "metadata": {},
   "source": [
    "Hace una columna para cada tipo de cultivo"
   ]
  },
  {
   "cell_type": "code",
   "execution_count": null,
   "metadata": {},
   "outputs": [],
   "source": [
    "tipocultivo_ohe = OneHotEncoder(sparse=False)\n",
    "tipocultivo_ohe.fit(data_corr[[\"Tipo_de_Cultivo\"]])\n",
    "tipocultivo_ohe.categories_"
   ]
  },
  {
   "cell_type": "markdown",
   "metadata": {},
   "source": [
    "Graficamos el heatmap de las correlaciones"
   ]
  },
  {
   "cell_type": "code",
   "execution_count": null,
   "metadata": {},
   "outputs": [],
   "source": [
    "data_corr[\"apple\"], data_corr[\"banana\"] ,data_corr[\"blackgram\"],data_corr[\"chickpea\"],data_corr[\"coconut\"],data_corr[\"coffee\"],data_corr[\"cotton\"],data_corr[\"grapes\"], data_corr[\"jute\"] ,data_corr[\"kidneybeans\"],data_corr[\"lentil\"],data_corr[\"maize\"],data_corr[\"mango\"],data_corr[\"mothbeans\"],data_corr[\"mungbean\"], data_corr[\"muskmelon\"] ,data_corr[\"orange\"],data_corr[\"papaya\"],data_corr[\"pigeonpeas\"],data_corr[\"pomegranate\"],data_corr[\"rice\"],data_corr[\"watermelon\"] = tipocultivo_ohe.fit_transform(data_corr[[\"Tipo_de_Cultivo\"]]).T\n",
    "data_corr.drop(columns=\"Tipo_de_Cultivo\", inplace=True)\n",
    "plt.figure(figsize = (20, 10))\n",
    "sns.heatmap(round(data_corr.corr(),2), cmap = \"coolwarm\", annot = True, annot_kws = {\"size\": 10})"
   ]
  },
  {
   "cell_type": "markdown",
   "metadata": {},
   "source": [
    "## T test P value"
   ]
  },
  {
   "cell_type": "code",
   "execution_count": 9,
   "metadata": {},
   "outputs": [],
   "source": [
    "rice = cultivos[cultivos[\"Tipo_de_Cultivo\"] == \"rice\"]\n",
    "\n",
    "coffee = cultivos[cultivos[\"Tipo_de_Cultivo\"] == \"coffee\"]"
   ]
  },
  {
   "cell_type": "markdown",
   "metadata": {},
   "source": [
    "H0: no hay diferencias significativas entre el contenido de potasio de los suelos que cultivan arroz y los que cultivan café --> hipótesis nula (que las dos muestras son iguales)"
   ]
  },
  {
   "cell_type": "code",
   "execution_count": 17,
   "metadata": {},
   "outputs": [
    {
     "name": "stdout",
     "output_type": "stream",
     "text": [
      "Rechazar la hipótesis nula. Hay una diferencia significativa de de contenido de potasio entre los cultivos arroz y café.\n",
      "7.221964148719214e-57\n",
      "22.649215142757964\n"
     ]
    }
   ],
   "source": [
    "t_stat, p_value = ttest_ind(rice[\"Contenido_de_Potasio\"], coffee[\"Contenido_de_Potasio\"])\n",
    "\n",
    "if p_value < 0.05:\n",
    "    print(\"Rechazar la hipótesis nula. Hay una diferencia significativa de de contenido de potasio entre los cultivos arroz y café.\")\n",
    "    print(p_value)\n",
    "    print(t_stat)\n",
    "else:\n",
    "    print(\"No rechazar la hipótesis nula.\")"
   ]
  },
  {
   "cell_type": "markdown",
   "metadata": {},
   "source": [
    "t_stat: Este es el valor del estadístico t calculado durante la prueba. Representa cuánto difieren las medias de las dos muestras."
   ]
  },
  {
   "cell_type": "markdown",
   "metadata": {},
   "source": [
    "p_value: Este es el valor p obtenido del test. Indica la probabilidad de observar los datos si la hipótesis nula (que las dos muestras son iguales) es verdadera. Un valor de p bajo sugiere evidencia contra la hipótesis nula."
   ]
  },
  {
   "cell_type": "markdown",
   "metadata": {},
   "source": [
    "## Regresión lineal"
   ]
  },
  {
   "cell_type": "code",
   "execution_count": 22,
   "metadata": {},
   "outputs": [],
   "source": [
    "data_new = data.drop(['Unnamed: 0'], axis=1)"
   ]
  },
  {
   "cell_type": "markdown",
   "metadata": {},
   "source": [
    "**Regresión con variables numéricas**"
   ]
  },
  {
   "cell_type": "code",
   "execution_count": 24,
   "metadata": {},
   "outputs": [
    {
     "data": {
      "text/html": [
       "<table class=\"simpletable\">\n",
       "<caption>OLS Regression Results</caption>\n",
       "<tr>\n",
       "  <th>Dep. Variable:</th>       <td>Net_Profit</td>    <th>  R-squared:         </th> <td>   0.301</td>\n",
       "</tr>\n",
       "<tr>\n",
       "  <th>Model:</th>                   <td>OLS</td>       <th>  Adj. R-squared:    </th> <td>   0.258</td>\n",
       "</tr>\n",
       "<tr>\n",
       "  <th>Method:</th>             <td>Least Squares</td>  <th>  F-statistic:       </th> <td>   6.985</td>\n",
       "</tr>\n",
       "<tr>\n",
       "  <th>Date:</th>             <td>Sun, 26 Nov 2023</td> <th>  Prob (F-statistic):</th> <td>9.67e-05</td>\n",
       "</tr>\n",
       "<tr>\n",
       "  <th>Time:</th>                 <td>23:30:08</td>     <th>  Log-Likelihood:    </th> <td> -842.48</td>\n",
       "</tr>\n",
       "<tr>\n",
       "  <th>No. Observations:</th>      <td>    70</td>      <th>  AIC:               </th> <td>   1695.</td>\n",
       "</tr>\n",
       "<tr>\n",
       "  <th>Df Residuals:</th>          <td>    65</td>      <th>  BIC:               </th> <td>   1706.</td>\n",
       "</tr>\n",
       "<tr>\n",
       "  <th>Df Model:</th>              <td>     4</td>      <th>                     </th>     <td> </td>   \n",
       "</tr>\n",
       "<tr>\n",
       "  <th>Covariance Type:</th>      <td>nonrobust</td>    <th>                     </th>     <td> </td>   \n",
       "</tr>\n",
       "</table>\n",
       "<table class=\"simpletable\">\n",
       "<tr>\n",
       "            <td></td>               <th>coef</th>     <th>std err</th>      <th>t</th>      <th>P>|t|</th>  <th>[0.025</th>    <th>0.975]</th>  \n",
       "</tr>\n",
       "<tr>\n",
       "  <th>Intercept</th>             <td> 6.535e+04</td> <td> 1.94e+04</td> <td>    3.369</td> <td> 0.001</td> <td> 2.66e+04</td> <td> 1.04e+05</td>\n",
       "</tr>\n",
       "<tr>\n",
       "  <th>RnD_Expenditure</th>       <td>    0.5156</td> <td>    0.124</td> <td>    4.149</td> <td> 0.000</td> <td>    0.267</td> <td>    0.764</td>\n",
       "</tr>\n",
       "<tr>\n",
       "  <th>Admin_Costs</th>           <td>   -0.0497</td> <td>    0.088</td> <td>   -0.562</td> <td> 0.576</td> <td>   -0.226</td> <td>    0.127</td>\n",
       "</tr>\n",
       "<tr>\n",
       "  <th>Marketing_Expenditure</th> <td>    0.0473</td> <td>    0.052</td> <td>    0.909</td> <td> 0.367</td> <td>   -0.057</td> <td>    0.151</td>\n",
       "</tr>\n",
       "<tr>\n",
       "  <th>Employee_Count</th>        <td>    3.4692</td> <td>   37.252</td> <td>    0.093</td> <td> 0.926</td> <td>  -70.929</td> <td>   77.868</td>\n",
       "</tr>\n",
       "<tr>\n",
       "  <th>Operational_Cost</th>      <td>   -0.0023</td> <td>    0.047</td> <td>   -0.050</td> <td> 0.960</td> <td>   -0.096</td> <td>    0.091</td>\n",
       "</tr>\n",
       "</table>\n",
       "<table class=\"simpletable\">\n",
       "<tr>\n",
       "  <th>Omnibus:</th>       <td>29.441</td> <th>  Durbin-Watson:     </th> <td>   2.083</td>\n",
       "</tr>\n",
       "<tr>\n",
       "  <th>Prob(Omnibus):</th> <td> 0.000</td> <th>  Jarque-Bera (JB):  </th> <td>  72.449</td>\n",
       "</tr>\n",
       "<tr>\n",
       "  <th>Skew:</th>          <td>-1.322</td> <th>  Prob(JB):          </th> <td>1.85e-16</td>\n",
       "</tr>\n",
       "<tr>\n",
       "  <th>Kurtosis:</th>      <td> 7.225</td> <th>  Cond. No.          </th> <td>1.36e+16</td>\n",
       "</tr>\n",
       "</table><br/><br/>Notes:<br/>[1] Standard Errors assume that the covariance matrix of the errors is correctly specified.<br/>[2] The smallest eigenvalue is 7.49e-20. This might indicate that there are<br/>strong multicollinearity problems or that the design matrix is singular."
      ],
      "text/latex": [
       "\\begin{center}\n",
       "\\begin{tabular}{lclc}\n",
       "\\toprule\n",
       "\\textbf{Dep. Variable:}         &   Net\\_Profit    & \\textbf{  R-squared:         } &     0.301   \\\\\n",
       "\\textbf{Model:}                 &       OLS        & \\textbf{  Adj. R-squared:    } &     0.258   \\\\\n",
       "\\textbf{Method:}                &  Least Squares   & \\textbf{  F-statistic:       } &     6.985   \\\\\n",
       "\\textbf{Date:}                  & Sun, 26 Nov 2023 & \\textbf{  Prob (F-statistic):} &  9.67e-05   \\\\\n",
       "\\textbf{Time:}                  &     23:30:08     & \\textbf{  Log-Likelihood:    } &   -842.48   \\\\\n",
       "\\textbf{No. Observations:}      &          70      & \\textbf{  AIC:               } &     1695.   \\\\\n",
       "\\textbf{Df Residuals:}          &          65      & \\textbf{  BIC:               } &     1706.   \\\\\n",
       "\\textbf{Df Model:}              &           4      & \\textbf{                     } &             \\\\\n",
       "\\textbf{Covariance Type:}       &    nonrobust     & \\textbf{                     } &             \\\\\n",
       "\\bottomrule\n",
       "\\end{tabular}\n",
       "\\begin{tabular}{lcccccc}\n",
       "                                & \\textbf{coef} & \\textbf{std err} & \\textbf{t} & \\textbf{P$> |$t$|$} & \\textbf{[0.025} & \\textbf{0.975]}  \\\\\n",
       "\\midrule\n",
       "\\textbf{Intercept}              &    6.535e+04  &     1.94e+04     &     3.369  &         0.001        &     2.66e+04    &     1.04e+05     \\\\\n",
       "\\textbf{RnD\\_Expenditure}       &       0.5156  &        0.124     &     4.149  &         0.000        &        0.267    &        0.764     \\\\\n",
       "\\textbf{Admin\\_Costs}           &      -0.0497  &        0.088     &    -0.562  &         0.576        &       -0.226    &        0.127     \\\\\n",
       "\\textbf{Marketing\\_Expenditure} &       0.0473  &        0.052     &     0.909  &         0.367        &       -0.057    &        0.151     \\\\\n",
       "\\textbf{Employee\\_Count}        &       3.4692  &       37.252     &     0.093  &         0.926        &      -70.929    &       77.868     \\\\\n",
       "\\textbf{Operational\\_Cost}      &      -0.0023  &        0.047     &    -0.050  &         0.960        &       -0.096    &        0.091     \\\\\n",
       "\\bottomrule\n",
       "\\end{tabular}\n",
       "\\begin{tabular}{lclc}\n",
       "\\textbf{Omnibus:}       & 29.441 & \\textbf{  Durbin-Watson:     } &    2.083  \\\\\n",
       "\\textbf{Prob(Omnibus):} &  0.000 & \\textbf{  Jarque-Bera (JB):  } &   72.449  \\\\\n",
       "\\textbf{Skew:}          & -1.322 & \\textbf{  Prob(JB):          } & 1.85e-16  \\\\\n",
       "\\textbf{Kurtosis:}      &  7.225 & \\textbf{  Cond. No.          } & 1.36e+16  \\\\\n",
       "\\bottomrule\n",
       "\\end{tabular}\n",
       "%\\caption{OLS Regression Results}\n",
       "\\end{center}\n",
       "\n",
       "Notes: \\newline\n",
       " [1] Standard Errors assume that the covariance matrix of the errors is correctly specified. \\newline\n",
       " [2] The smallest eigenvalue is 7.49e-20. This might indicate that there are \\newline\n",
       " strong multicollinearity problems or that the design matrix is singular."
      ],
      "text/plain": [
       "<class 'statsmodels.iolib.summary.Summary'>\n",
       "\"\"\"\n",
       "                            OLS Regression Results                            \n",
       "==============================================================================\n",
       "Dep. Variable:             Net_Profit   R-squared:                       0.301\n",
       "Model:                            OLS   Adj. R-squared:                  0.258\n",
       "Method:                 Least Squares   F-statistic:                     6.985\n",
       "Date:                Sun, 26 Nov 2023   Prob (F-statistic):           9.67e-05\n",
       "Time:                        23:30:08   Log-Likelihood:                -842.48\n",
       "No. Observations:                  70   AIC:                             1695.\n",
       "Df Residuals:                      65   BIC:                             1706.\n",
       "Df Model:                           4                                         \n",
       "Covariance Type:            nonrobust                                         \n",
       "=========================================================================================\n",
       "                            coef    std err          t      P>|t|      [0.025      0.975]\n",
       "-----------------------------------------------------------------------------------------\n",
       "Intercept              6.535e+04   1.94e+04      3.369      0.001    2.66e+04    1.04e+05\n",
       "RnD_Expenditure           0.5156      0.124      4.149      0.000       0.267       0.764\n",
       "Admin_Costs              -0.0497      0.088     -0.562      0.576      -0.226       0.127\n",
       "Marketing_Expenditure     0.0473      0.052      0.909      0.367      -0.057       0.151\n",
       "Employee_Count            3.4692     37.252      0.093      0.926     -70.929      77.868\n",
       "Operational_Cost         -0.0023      0.047     -0.050      0.960      -0.096       0.091\n",
       "==============================================================================\n",
       "Omnibus:                       29.441   Durbin-Watson:                   2.083\n",
       "Prob(Omnibus):                  0.000   Jarque-Bera (JB):               72.449\n",
       "Skew:                          -1.322   Prob(JB):                     1.85e-16\n",
       "Kurtosis:                       7.225   Cond. No.                     1.36e+16\n",
       "==============================================================================\n",
       "\n",
       "Notes:\n",
       "[1] Standard Errors assume that the covariance matrix of the errors is correctly specified.\n",
       "[2] The smallest eigenvalue is 7.49e-20. This might indicate that there are\n",
       "strong multicollinearity problems or that the design matrix is singular.\n",
       "\"\"\""
      ]
     },
     "execution_count": 24,
     "metadata": {},
     "output_type": "execute_result"
    }
   ],
   "source": [
    "model = smf.ols(formula = \"Net_Profit ~ RnD_Expenditure + Admin_Costs + Marketing_Expenditure + Employee_Count + Operational_Cost\", data = data_new)\n",
    "model = model.fit()\n",
    "model.summary()"
   ]
  },
  {
   "cell_type": "markdown",
   "metadata": {},
   "source": [
    "En este caso, el r cuadrado es 0.301, lo que significa que aproximadamente el 30,1% de la variabilidad en \"Net_Profit\" puede ser explicada por las variables independientes incluidas en el modelo, se considera un r cuadrado bajo.\n",
    "\n",
    "El valor del estadístico F es 6.985, y el valor p asociado (Prob (F-statistic)) es 9.67e-05, lo que indica que al menos una de las variables independientes es significativa en la predicción de \"Net_Profit\"."
   ]
  },
  {
   "cell_type": "markdown",
   "metadata": {},
   "source": [
    "**Regresión con variables categóricas**"
   ]
  },
  {
   "cell_type": "markdown",
   "metadata": {},
   "source": [
    "Al pasar una variable categórica, statsmodel usa la primera variable como referencia.\n",
    "El intercepto es igual a la media de la referencia (aquí origen==europa)\n",
    "Cada coeficiente corresponde a la diferencia con la media de la referencia"
   ]
  },
  {
   "cell_type": "code",
   "execution_count": 40,
   "metadata": {},
   "outputs": [
    {
     "data": {
      "text/html": [
       "<table class=\"simpletable\">\n",
       "<caption>OLS Regression Results</caption>\n",
       "<tr>\n",
       "  <th>Dep. Variable:</th>       <td>Net_Profit</td>    <th>  R-squared:         </th> <td>   0.170</td>\n",
       "</tr>\n",
       "<tr>\n",
       "  <th>Model:</th>                   <td>OLS</td>       <th>  Adj. R-squared:    </th> <td>   0.029</td>\n",
       "</tr>\n",
       "<tr>\n",
       "  <th>Method:</th>             <td>Least Squares</td>  <th>  F-statistic:       </th> <td>   1.205</td>\n",
       "</tr>\n",
       "<tr>\n",
       "  <th>Date:</th>             <td>Sun, 26 Nov 2023</td> <th>  Prob (F-statistic):</th>  <td> 0.307</td> \n",
       "</tr>\n",
       "<tr>\n",
       "  <th>Time:</th>                 <td>23:53:52</td>     <th>  Log-Likelihood:    </th> <td> -848.49</td>\n",
       "</tr>\n",
       "<tr>\n",
       "  <th>No. Observations:</th>      <td>    70</td>      <th>  AIC:               </th> <td>   1719.</td>\n",
       "</tr>\n",
       "<tr>\n",
       "  <th>Df Residuals:</th>          <td>    59</td>      <th>  BIC:               </th> <td>   1744.</td>\n",
       "</tr>\n",
       "<tr>\n",
       "  <th>Df Model:</th>              <td>    10</td>      <th>                     </th>     <td> </td>   \n",
       "</tr>\n",
       "<tr>\n",
       "  <th>Covariance Type:</th>      <td>nonrobust</td>    <th>                     </th>     <td> </td>   \n",
       "</tr>\n",
       "</table>\n",
       "<table class=\"simpletable\">\n",
       "<tr>\n",
       "                  <td></td>                    <th>coef</th>     <th>std err</th>      <th>t</th>      <th>P>|t|</th>  <th>[0.025</th>    <th>0.975]</th>  \n",
       "</tr>\n",
       "<tr>\n",
       "  <th>Intercept</th>                        <td> 7.984e+04</td> <td> 2.48e+04</td> <td>    3.222</td> <td> 0.002</td> <td> 3.03e+04</td> <td> 1.29e+05</td>\n",
       "</tr>\n",
       "<tr>\n",
       "  <th>C(Industry_Sector)[T.Finance]</th>    <td> 3.292e+04</td> <td> 2.07e+04</td> <td>    1.588</td> <td> 0.118</td> <td>-8572.215</td> <td> 7.44e+04</td>\n",
       "</tr>\n",
       "<tr>\n",
       "  <th>C(Industry_Sector)[T.Healthcare]</th> <td>-6291.8788</td> <td> 1.89e+04</td> <td>   -0.332</td> <td> 0.741</td> <td>-4.42e+04</td> <td> 3.16e+04</td>\n",
       "</tr>\n",
       "<tr>\n",
       "  <th>C(Industry_Sector)[T.Retail]</th>     <td> 6532.8956</td> <td> 2.13e+04</td> <td>    0.306</td> <td> 0.761</td> <td>-3.62e+04</td> <td> 4.92e+04</td>\n",
       "</tr>\n",
       "<tr>\n",
       "  <th>C(Industry_Sector)[T.Tech]</th>       <td> 2.241e+04</td> <td> 1.89e+04</td> <td>    1.187</td> <td> 0.240</td> <td>-1.54e+04</td> <td> 6.02e+04</td>\n",
       "</tr>\n",
       "<tr>\n",
       "  <th>C(Investment_Round)[T.Seed]</th>      <td> 4045.9862</td> <td> 2.35e+04</td> <td>    0.172</td> <td> 0.864</td> <td> -4.3e+04</td> <td> 5.11e+04</td>\n",
       "</tr>\n",
       "<tr>\n",
       "  <th>C(Investment_Round)[T.Series A]</th>  <td> 3.234e+04</td> <td>  3.3e+04</td> <td>    0.979</td> <td> 0.332</td> <td>-3.38e+04</td> <td> 9.85e+04</td>\n",
       "</tr>\n",
       "<tr>\n",
       "  <th>C(Investment_Round)[T.Series B]</th>  <td> 3.529e+04</td> <td> 2.72e+04</td> <td>    1.296</td> <td> 0.200</td> <td>-1.92e+04</td> <td> 8.98e+04</td>\n",
       "</tr>\n",
       "<tr>\n",
       "  <th>C(Investment_Round)[T.Series C]</th>  <td> 2.021e+04</td> <td> 2.68e+04</td> <td>    0.753</td> <td> 0.454</td> <td>-3.35e+04</td> <td> 7.39e+04</td>\n",
       "</tr>\n",
       "<tr>\n",
       "  <th>C(Location)[T.Florida]</th>           <td> 5942.5834</td> <td> 1.64e+04</td> <td>    0.362</td> <td> 0.719</td> <td>-2.69e+04</td> <td> 3.88e+04</td>\n",
       "</tr>\n",
       "<tr>\n",
       "  <th>C(Location)[T.New York]</th>          <td> 6784.2221</td> <td> 1.52e+04</td> <td>    0.445</td> <td> 0.658</td> <td>-2.37e+04</td> <td> 3.73e+04</td>\n",
       "</tr>\n",
       "</table>\n",
       "<table class=\"simpletable\">\n",
       "<tr>\n",
       "  <th>Omnibus:</th>       <td> 3.067</td> <th>  Durbin-Watson:     </th> <td>   1.480</td>\n",
       "</tr>\n",
       "<tr>\n",
       "  <th>Prob(Omnibus):</th> <td> 0.216</td> <th>  Jarque-Bera (JB):  </th> <td>   2.008</td>\n",
       "</tr>\n",
       "<tr>\n",
       "  <th>Skew:</th>          <td>-0.203</td> <th>  Prob(JB):          </th> <td>   0.366</td>\n",
       "</tr>\n",
       "<tr>\n",
       "  <th>Kurtosis:</th>      <td> 2.276</td> <th>  Cond. No.          </th> <td>    12.1</td>\n",
       "</tr>\n",
       "</table><br/><br/>Notes:<br/>[1] Standard Errors assume that the covariance matrix of the errors is correctly specified."
      ],
      "text/latex": [
       "\\begin{center}\n",
       "\\begin{tabular}{lclc}\n",
       "\\toprule\n",
       "\\textbf{Dep. Variable:}                    &   Net\\_Profit    & \\textbf{  R-squared:         } &     0.170   \\\\\n",
       "\\textbf{Model:}                            &       OLS        & \\textbf{  Adj. R-squared:    } &     0.029   \\\\\n",
       "\\textbf{Method:}                           &  Least Squares   & \\textbf{  F-statistic:       } &     1.205   \\\\\n",
       "\\textbf{Date:}                             & Sun, 26 Nov 2023 & \\textbf{  Prob (F-statistic):} &    0.307    \\\\\n",
       "\\textbf{Time:}                             &     23:53:52     & \\textbf{  Log-Likelihood:    } &   -848.49   \\\\\n",
       "\\textbf{No. Observations:}                 &          70      & \\textbf{  AIC:               } &     1719.   \\\\\n",
       "\\textbf{Df Residuals:}                     &          59      & \\textbf{  BIC:               } &     1744.   \\\\\n",
       "\\textbf{Df Model:}                         &          10      & \\textbf{                     } &             \\\\\n",
       "\\textbf{Covariance Type:}                  &    nonrobust     & \\textbf{                     } &             \\\\\n",
       "\\bottomrule\n",
       "\\end{tabular}\n",
       "\\begin{tabular}{lcccccc}\n",
       "                                           & \\textbf{coef} & \\textbf{std err} & \\textbf{t} & \\textbf{P$> |$t$|$} & \\textbf{[0.025} & \\textbf{0.975]}  \\\\\n",
       "\\midrule\n",
       "\\textbf{Intercept}                         &    7.984e+04  &     2.48e+04     &     3.222  &         0.002        &     3.03e+04    &     1.29e+05     \\\\\n",
       "\\textbf{C(Industry\\_Sector)[T.Finance]}    &    3.292e+04  &     2.07e+04     &     1.588  &         0.118        &    -8572.215    &     7.44e+04     \\\\\n",
       "\\textbf{C(Industry\\_Sector)[T.Healthcare]} &   -6291.8788  &     1.89e+04     &    -0.332  &         0.741        &    -4.42e+04    &     3.16e+04     \\\\\n",
       "\\textbf{C(Industry\\_Sector)[T.Retail]}     &    6532.8956  &     2.13e+04     &     0.306  &         0.761        &    -3.62e+04    &     4.92e+04     \\\\\n",
       "\\textbf{C(Industry\\_Sector)[T.Tech]}       &    2.241e+04  &     1.89e+04     &     1.187  &         0.240        &    -1.54e+04    &     6.02e+04     \\\\\n",
       "\\textbf{C(Investment\\_Round)[T.Seed]}      &    4045.9862  &     2.35e+04     &     0.172  &         0.864        &     -4.3e+04    &     5.11e+04     \\\\\n",
       "\\textbf{C(Investment\\_Round)[T.Series A]}  &    3.234e+04  &      3.3e+04     &     0.979  &         0.332        &    -3.38e+04    &     9.85e+04     \\\\\n",
       "\\textbf{C(Investment\\_Round)[T.Series B]}  &    3.529e+04  &     2.72e+04     &     1.296  &         0.200        &    -1.92e+04    &     8.98e+04     \\\\\n",
       "\\textbf{C(Investment\\_Round)[T.Series C]}  &    2.021e+04  &     2.68e+04     &     0.753  &         0.454        &    -3.35e+04    &     7.39e+04     \\\\\n",
       "\\textbf{C(Location)[T.Florida]}            &    5942.5834  &     1.64e+04     &     0.362  &         0.719        &    -2.69e+04    &     3.88e+04     \\\\\n",
       "\\textbf{C(Location)[T.New York]}           &    6784.2221  &     1.52e+04     &     0.445  &         0.658        &    -2.37e+04    &     3.73e+04     \\\\\n",
       "\\bottomrule\n",
       "\\end{tabular}\n",
       "\\begin{tabular}{lclc}\n",
       "\\textbf{Omnibus:}       &  3.067 & \\textbf{  Durbin-Watson:     } &    1.480  \\\\\n",
       "\\textbf{Prob(Omnibus):} &  0.216 & \\textbf{  Jarque-Bera (JB):  } &    2.008  \\\\\n",
       "\\textbf{Skew:}          & -0.203 & \\textbf{  Prob(JB):          } &    0.366  \\\\\n",
       "\\textbf{Kurtosis:}      &  2.276 & \\textbf{  Cond. No.          } &     12.1  \\\\\n",
       "\\bottomrule\n",
       "\\end{tabular}\n",
       "%\\caption{OLS Regression Results}\n",
       "\\end{center}\n",
       "\n",
       "Notes: \\newline\n",
       " [1] Standard Errors assume that the covariance matrix of the errors is correctly specified."
      ],
      "text/plain": [
       "<class 'statsmodels.iolib.summary.Summary'>\n",
       "\"\"\"\n",
       "                            OLS Regression Results                            \n",
       "==============================================================================\n",
       "Dep. Variable:             Net_Profit   R-squared:                       0.170\n",
       "Model:                            OLS   Adj. R-squared:                  0.029\n",
       "Method:                 Least Squares   F-statistic:                     1.205\n",
       "Date:                Sun, 26 Nov 2023   Prob (F-statistic):              0.307\n",
       "Time:                        23:53:52   Log-Likelihood:                -848.49\n",
       "No. Observations:                  70   AIC:                             1719.\n",
       "Df Residuals:                      59   BIC:                             1744.\n",
       "Df Model:                          10                                         \n",
       "Covariance Type:            nonrobust                                         \n",
       "====================================================================================================\n",
       "                                       coef    std err          t      P>|t|      [0.025      0.975]\n",
       "----------------------------------------------------------------------------------------------------\n",
       "Intercept                         7.984e+04   2.48e+04      3.222      0.002    3.03e+04    1.29e+05\n",
       "C(Industry_Sector)[T.Finance]     3.292e+04   2.07e+04      1.588      0.118   -8572.215    7.44e+04\n",
       "C(Industry_Sector)[T.Healthcare] -6291.8788   1.89e+04     -0.332      0.741   -4.42e+04    3.16e+04\n",
       "C(Industry_Sector)[T.Retail]      6532.8956   2.13e+04      0.306      0.761   -3.62e+04    4.92e+04\n",
       "C(Industry_Sector)[T.Tech]        2.241e+04   1.89e+04      1.187      0.240   -1.54e+04    6.02e+04\n",
       "C(Investment_Round)[T.Seed]       4045.9862   2.35e+04      0.172      0.864    -4.3e+04    5.11e+04\n",
       "C(Investment_Round)[T.Series A]   3.234e+04    3.3e+04      0.979      0.332   -3.38e+04    9.85e+04\n",
       "C(Investment_Round)[T.Series B]   3.529e+04   2.72e+04      1.296      0.200   -1.92e+04    8.98e+04\n",
       "C(Investment_Round)[T.Series C]   2.021e+04   2.68e+04      0.753      0.454   -3.35e+04    7.39e+04\n",
       "C(Location)[T.Florida]            5942.5834   1.64e+04      0.362      0.719   -2.69e+04    3.88e+04\n",
       "C(Location)[T.New York]           6784.2221   1.52e+04      0.445      0.658   -2.37e+04    3.73e+04\n",
       "==============================================================================\n",
       "Omnibus:                        3.067   Durbin-Watson:                   1.480\n",
       "Prob(Omnibus):                  0.216   Jarque-Bera (JB):                2.008\n",
       "Skew:                          -0.203   Prob(JB):                        0.366\n",
       "Kurtosis:                       2.276   Cond. No.                         12.1\n",
       "==============================================================================\n",
       "\n",
       "Notes:\n",
       "[1] Standard Errors assume that the covariance matrix of the errors is correctly specified.\n",
       "\"\"\""
      ]
     },
     "execution_count": 40,
     "metadata": {},
     "output_type": "execute_result"
    }
   ],
   "source": [
    "model2 = smf.ols(formula=\"Net_Profit ~  C(Industry_Sector)+ C(Investment_Round)+ C(Location)\", data=data_new)\n",
    "model2 = model2.fit()\n",
    "model2.summary()"
   ]
  },
  {
   "cell_type": "markdown",
   "metadata": {},
   "source": [
    "Rcuadrado=1\n",
    " el mejor de los casos donde el objetivo se explica al 100% por las características\n",
    "Rcuadrado =0\n",
    "Es la media\n",
    "Rcuadrado <0\n",
    " puede existir y, en el peor de los casos, ¡predecir la media sería incluso mejor que ejecutar un modelo\n",
    "lineal!"
   ]
  },
  {
   "cell_type": "markdown",
   "metadata": {},
   "source": [
    "### Residuos"
   ]
  },
  {
   "cell_type": "markdown",
   "metadata": {},
   "source": [
    "Calculamos los valores predichos y el residuo"
   ]
  },
  {
   "cell_type": "code",
   "execution_count": 27,
   "metadata": {},
   "outputs": [],
   "source": [
    "modelo1 = data_new.copy()\n",
    "modelo1[\"pred\"] = model.predict(modelo1[[\"RnD_Expenditure\", \"Admin_Costs\", \"Marketing_Expenditure\", \"Employee_Count\", \"Operational_Cost\"]])\n",
    "modelo1[\"dif\"] = modelo1[\"Net_Profit\"] - modelo1[\"pred\"]"
   ]
  },
  {
   "cell_type": "code",
   "execution_count": 28,
   "metadata": {},
   "outputs": [
    {
     "name": "stdout",
     "output_type": "stream",
     "text": [
      "El error cuadrático de este modelo 1 es 1665028653.0206966\n"
     ]
    }
   ],
   "source": [
    "modelo1[\"EC\"] = (modelo1[\"Net_Profit\"] - modelo1[\"pred\"])**2\n",
    "print(f\"El error cuadrático de este modelo 1 es {modelo1.EC.mean()}\")"
   ]
  },
  {
   "cell_type": "code",
   "execution_count": 32,
   "metadata": {},
   "outputs": [
    {
     "data": {
      "text/plain": [
       "0.6892080397117675"
      ]
     },
     "execution_count": 32,
     "metadata": {},
     "output_type": "execute_result"
    }
   ],
   "source": [
    "sklearn.metrics.mean_absolute_percentage_error(modelo1[\"Net_Profit\"], modelo1[\"pred\"])"
   ]
  },
  {
   "cell_type": "markdown",
   "metadata": {},
   "source": [
    "El Mean Absolute Percentage Error (MAPE) del primer modelo es de 0.6892080397117675: indica que, en promedio, las predicciones del modelo tienen un error absoluto del 68.92%, un error extremadamente alto. Tiene sentido ya que el p value de la mayoria de las variables es alto."
   ]
  },
  {
   "cell_type": "code",
   "execution_count": 33,
   "metadata": {},
   "outputs": [
    {
     "data": {
      "image/png": "[encoded data removed]",
      "text/plain": [
       "<Figure size 640x480 with 1 Axes>"
      ]
     },
     "metadata": {},
     "output_type": "display_data"
    }
   ],
   "source": [
    "sns.histplot(modelo1[\"dif\"], kde=True, color='blue')\n",
    "\n",
    "# Personaliza el gráfico\n",
    "plt.xlabel('Residuos')\n",
    "plt.ylabel('Frecuencia')\n",
    "plt.title('Histograma de Residuos')\n",
    "\n",
    "# Muestra el gráfico\n",
    "plt.show()"
   ]
  },
  {
   "cell_type": "code",
   "execution_count": 38,
   "metadata": {},
   "outputs": [
    {
     "data": {
      "text/plain": [
       "<Axes: xlabel='Net_Profit', ylabel='dif'>"
      ]
     },
     "execution_count": 38,
     "metadata": {},
     "output_type": "execute_result"
    },
    {
     "data": {
      "image/png": "[encoded data removed]",
      "text/plain": [
       "<Figure size 640x480 with 1 Axes>"
      ]
     },
     "metadata": {},
     "output_type": "display_data"
    }
   ],
   "source": [
    "sns.scatterplot(x=modelo1[\"Net_Profit\"], y=modelo1[\"dif\"])"
   ]
  },
  {
   "cell_type": "markdown",
   "metadata": {},
   "source": [
    "El modelo de predicción es en general preciso, ya que la mayoría de los puntos se encuentran cerca de la línea diagonal de referencia.\n",
    "Sin embargo, hay algunos puntos que se encuentran alejadas de la línea, lo que indica que el modelo no es perfecto.\n",
    "Los puntos que se encuentran alejadas de la línea diagonal se encuentran principalmente en los extremos del gráfico, lo que indica que el modelo puede tener dificultades para predecir ganancias muy altas o muy bajas."
   ]
  },
  {
   "cell_type": "markdown",
   "metadata": {},
   "source": [
    "## ANOVA"
   ]
  },
  {
   "cell_type": "code",
   "execution_count": 37,
   "metadata": {},
   "outputs": [
    {
     "name": "stdout",
     "output_type": "stream",
     "text": [
      "Estadística F: 1.7135362927526463\n",
      "Valor p: 0.15768887798901582\n"
     ]
    }
   ],
   "source": [
    "# Realizar pruebas estadísticas para comparar los sectores.\n",
    "from scipy.stats import f_oneway\n",
    "\n",
    "sectors = data_new['Industry_Sector'].unique()\n",
    "sector_data = [data_new[data_new['Industry_Sector'] == sector]['Net_Profit'] for sector in sectors]\n",
    "\n",
    "# Realizar un análisis de varianza (ANOVA) para verificar si existen diferencias significativas.\n",
    "f_statistic, p_value = f_oneway(*sector_data)\n",
    "print(f'Estadística F: {f_statistic}')\n",
    "print(f'Valor p: {p_value}')"
   ]
  },
  {
   "cell_type": "markdown",
   "metadata": {},
   "source": [
    "Un valor p bajo (generalmente menos de 0.05) sugiere que al menos un grupo es significativamente diferente de los otros en términos de la variable medida."
   ]
  },
  {
   "cell_type": "markdown",
   "metadata": {},
   "source": [
    "En el contexto de un ANOVA, el valor de la estadística F se utiliza para evaluar si hay diferencias significativas entre las medias de los grupos. Para interpretar este valor de F, es esencial considerar el tamaño del mismo en relación con un umbral crítico."
   ]
  },
  {
   "cell_type": "markdown",
   "metadata": {},
   "source": [
    "## Random Forest"
   ]
  },
  {
   "cell_type": "markdown",
   "metadata": {},
   "source": [
    "## Gregors"
   ]
  },
  {
   "cell_type": "markdown",
   "metadata": {},
   "source": [
    "### RF for importance cols"
   ]
  },
  {
   "cell_type": "code",
   "execution_count": null,
   "metadata": {},
   "outputs": [],
   "source": [
    "from sklearn.ensemble import RandomForestClassifier\n",
    "from sklearn.model_selection import train_test_split\n",
    "\n",
    "\n",
    "X = df_model.drop('conversion', axis=1)\n",
    "y = df_model['conversion']\n",
    "\n",
    "# Dividir los datos en conjuntos de entrenamiento y prueba\n",
    "X_train, X_test, y_train, y_test = train_test_split(X, y, test_size=0.2, random_state=42)\n",
    "\n",
    "# Entrenar el modelo de Random Forest\n",
    "rf = RandomForestClassifier(n_estimators=100, random_state=42)\n",
    "rf.fit(X_train, y_train)\n",
    "\n",
    "# Obtener la importancia de las características\n",
    "feature_importances = rf.feature_importances_\n",
    "\n",
    "# Crear un DataFrame para las importancias de las características\n",
    "feature_importance_df = pd.DataFrame({'Feature': X.columns, 'Importance': feature_importances})\n",
    "\n",
    "# Ordenar el DataFrame por importancia\n",
    "feature_importance_df = feature_importance_df.sort_values('Importance', ascending=False)\n",
    "\n",
    "# Seleccionar las características más importantes (por ejemplo, las 10 más importantes)\n",
    "top_features = feature_importance_df['Feature'][:10].tolist()\n",
    "\n",
    "print(\"Top 10 features:\", top_features)\n"
   ]
  },
  {
   "cell_type": "code",
   "execution_count": null,
   "metadata": {},
   "outputs": [],
   "source": [
    "from sklearn.metrics import confusion_matrix, roc_curve, roc_auc_score\n",
    "import matplotlib.pyplot as plt\n",
    "\n",
    "# Hacer predicciones en el conjunto de prueba\n",
    "y_pred_prob = rf.predict_proba(X_test)[:, 1]\n",
    "y_pred = rf.predict(X_test)\n",
    "\n",
    "# Matriz de confusión\n",
    "conf_matrix = confusion_matrix(y_test, y_pred)\n",
    "print(\"Confusion Matrix:\")\n",
    "print(conf_matrix)\n",
    "\n",
    "# Curva ROC-AUC\n",
    "fpr, tpr, _ = roc_curve(y_test, y_pred_prob)\n",
    "roc_auc = roc_auc_score(y_test, y_pred_prob)\n",
    "\n",
    "plt.figure()\n",
    "plt.plot(fpr, tpr, color='darkorange', lw=1, label='ROC curve (area = %0.2f)' % roc_auc)\n",
    "plt.xlim([0.0, 1.0])\n",
    "plt.ylim([0.0, 1.05])\n",
    "plt.xlabel('False Positive Rate')\n",
    "plt.ylabel('True Positive Rate')\n",
    "plt.title('Receiver Operating Characteristic')\n",
    "plt.legend(loc=\"lower right\")\n",
    "plt.show()"
   ]
  },
  {
   "cell_type": "code",
   "execution_count": null,
   "metadata": {},
   "outputs": [],
   "source": [
    "import shap\n",
    "\n",
    "# Inicializar el explainer de SHAP\n",
    "explainer = shap.TreeExplainer(rf)\n",
    "\n",
    "# Calcular los SHAP values para todas las muestras en el conjunto de prueba\n",
    "shap_values = explainer.shap_values(X_test)\n",
    "\n",
    "# Visualizar el primer prediction\n",
    "shap.initjs()\n",
    "shap.force_plot(explainer.expected_value[1], shap_values[1][0,:], X_test.iloc[0,:])\n",
    "\n",
    "# Visualizar el resumen para todo el conjunto de prueba\n",
    "shap.summary_plot(shap_values[1], X_test)"
   ]
  },
  {
   "cell_type": "markdown",
   "metadata": {},
   "source": [
    "## Regresión logística"
   ]
  },
  {
   "cell_type": "code",
   "execution_count": null,
   "metadata": {},
   "outputs": [],
   "source": [
    "import statsmodels.api as sm\n",
    "from sklearn.metrics import accuracy_score, classification_report, confusion_matrix\n",
    "import numpy as  np"
   ]
  },
  {
   "cell_type": "markdown",
   "metadata": {},
   "source": [
    "Le pongo un id a cada tipo de cultivo"
   ]
  },
  {
   "cell_type": "code",
   "execution_count": null,
   "metadata": {},
   "outputs": [],
   "source": [
    "data_modelos['id_cultivo'] = pd.factorize(data_modelos['Tipo_de_Cultivo'])[0]"
   ]
  },
  {
   "cell_type": "markdown",
   "metadata": {},
   "source": [
    "Puedo ver qué id es cada cultivo con este código"
   ]
  },
  {
   "cell_type": "code",
   "execution_count": null,
   "metadata": {},
   "outputs": [],
   "source": [
    "data_modelos[[\"id_cultivo\", \"Tipo_de_Cultivo\"]].drop_duplicates()"
   ]
  },
  {
   "cell_type": "markdown",
   "metadata": {},
   "source": [
    "Separo Y y X"
   ]
  },
  {
   "cell_type": "code",
   "execution_count": null,
   "metadata": {},
   "outputs": [],
   "source": [
    "X = data_modelos.drop([\"id_cultivo\",\"Tipo_de_Cultivo\"], axis=1)  # DataFrame con características\n",
    "y = data_modelos['id_cultivo']  # Serie con etiquetas"
   ]
  },
  {
   "cell_type": "markdown",
   "metadata": {},
   "source": [
    "Separo train y test"
   ]
  },
  {
   "cell_type": "code",
   "execution_count": null,
   "metadata": {},
   "outputs": [],
   "source": [
    "X_train, X_test, y_train, y_test = train_test_split(X, y, test_size=0.30, random_state=31415)"
   ]
  },
  {
   "cell_type": "markdown",
   "metadata": {},
   "source": [
    "Ejecuto la regresión"
   ]
  },
  {
   "cell_type": "code",
   "execution_count": null,
   "metadata": {},
   "outputs": [],
   "source": [
    "logit_model=sm.MNLogit(y_train,sm.add_constant(X_train))\n",
    "logit_model\n",
    "result=logit_model.fit(method=\"bfgs\")\n",
    "stats1=result.summary()\n",
    "\n",
    "print(stats1)"
   ]
  },
  {
   "cell_type": "markdown",
   "metadata": {},
   "source": [
    "Matriz de confusión"
   ]
  },
  {
   "cell_type": "code",
   "execution_count": null,
   "metadata": {},
   "outputs": [],
   "source": [
    "y_pred = result.predict(sm.add_constant(X_test))\n",
    "y_pred_labels = np.argmax(y_pred.values, axis=1)\n",
    "\n",
    "# Evaluate performance\n",
    "accuracy = accuracy_score(y_test, y_pred_labels)\n",
    "print(f'Accuracy: {accuracy}')\n",
    "\n",
    "# Display other classification metrics\n",
    "print(classification_report(y_test, y_pred_labels))\n",
    "\n",
    "# Display confusion matrix\n",
    "cm = confusion_matrix(y_test, y_pred_labels)\n",
    "print('Confusion Matrix:')\n",
    "# print(cm)\n",
    "\n",
    "# Visualización de la matriz de confusión\n",
    "f, ax = plt.subplots(figsize=(15, 10))\n",
    "sns.heatmap(cm, annot=True, linewidth=0.5, fmt=\".0f\", cmap='viridis', ax=ax)\n",
    "plt.xlabel(\"Predicho\")\n",
    "plt.ylabel(\"Real\")\n",
    "plt.title('Matriz de Confusión')\n",
    "plt.show()"
   ]
  },
  {
   "cell_type": "markdown",
   "metadata": {},
   "source": [
    "## Árbol de decisión"
   ]
  },
  {
   "cell_type": "code",
   "execution_count": null,
   "metadata": {},
   "outputs": [],
   "source": [
    "from sklearn.metrics import confusion_matrix\n",
    "from sklearn.tree import DecisionTreeClassifier"
   ]
  },
  {
   "cell_type": "markdown",
   "metadata": {},
   "source": [
    "Le pongo un id a cada tipo de cultivo"
   ]
  },
  {
   "cell_type": "code",
   "execution_count": null,
   "metadata": {},
   "outputs": [],
   "source": [
    "data_modelos['id_cultivo'] = pd.factorize(data_modelos['Tipo_de_Cultivo'])[0]"
   ]
  },
  {
   "cell_type": "markdown",
   "metadata": {},
   "source": [
    "Puedo ver qué id es cada cultivo con este código"
   ]
  },
  {
   "cell_type": "code",
   "execution_count": null,
   "metadata": {},
   "outputs": [],
   "source": [
    "data_modelos[[\"id_cultivo\", \"Tipo_de_Cultivo\"]].drop_duplicates()"
   ]
  },
  {
   "cell_type": "markdown",
   "metadata": {},
   "source": [
    "Separo Y y X"
   ]
  },
  {
   "cell_type": "code",
   "execution_count": null,
   "metadata": {},
   "outputs": [],
   "source": [
    "X = data_modelos.drop([\"id_cultivo\",\"Tipo_de_Cultivo\"], axis=1)  # DataFrame con características\n",
    "y = data_modelos['id_cultivo']  # Serie con etiquetas"
   ]
  },
  {
   "cell_type": "markdown",
   "metadata": {},
   "source": [
    "Separo train y test"
   ]
  },
  {
   "cell_type": "code",
   "execution_count": null,
   "metadata": {},
   "outputs": [],
   "source": [
    "X_train, X_test, y_train, y_test = train_test_split(X, y, test_size=0.30, random_state=31415)"
   ]
  },
  {
   "cell_type": "markdown",
   "metadata": {},
   "source": [
    "Ejecuto el árbol"
   ]
  },
  {
   "cell_type": "code",
   "execution_count": null,
   "metadata": {},
   "outputs": [],
   "source": [
    "# Crear el modelo\n",
    "decision_tree_model = DecisionTreeClassifier(criterion=\"entropy\", random_state=2,\n",
    "max_depth=5)\n",
    "decision_tree_model.fit(X_train, y_train)\n",
    "# Validación cruzada\n",
    "score = cross_val_score(decision_tree_model, X, y, cv=5)\n",
    "print('Puntuación de validación cruzada:', score)\n",
    "# Precisión en entrenamiento\n",
    "dt_train_accuracy = decision_tree_model.score(X_train, y_train)\n",
    "print(\"Precisión en entrenamiento =\", dt_train_accuracy)\n",
    "# Precisión en pruebas\n",
    "dt_test_accuracy = decision_tree_model.score(X_test, y_test)\n",
    "print(\"Precisión en pruebas =\", dt_test_accuracy)\n",
    "# Matriz de confusión\n",
    "y_pred = decision_tree_model.predict(X_test)\n",
    "y_true = y_test\n",
    "from sklearn.metrics import confusion_matrix\n",
    "cm_dt = confusion_matrix(y_true, y_pred)\n",
    "# Visualización de la matriz de confusión\n",
    "f, ax = plt.subplots(figsize=(15, 10))\n",
    "sns.heatmap(cm_dt, annot=True, linewidth=0.5, fmt=\".0f\", cmap='viridis', ax=ax)\n",
    "plt.xlabel(\"Predicho\")\n",
    "plt.ylabel(\"Real\")\n",
    "plt.title('Matriz de Confusión')\n",
    "plt.show()"
   ]
  }
 ],
 "metadata": {
  "kernelspec": {
   "display_name": "Python 3",
   "language": "python",
   "name": "python3"
  },
  "language_info": {
   "codemirror_mode": {
    "name": "ipython",
    "version": 3
   },
   "file_extension": ".py",
   "mimetype": "text/x-python",
   "name": "python",
   "nbconvert_exporter": "python",
   "pygments_lexer": "ipython3",
   "version": "3.11.6"
  }
 },
 "nbformat": 4,
 "nbformat_minor": 2
}
